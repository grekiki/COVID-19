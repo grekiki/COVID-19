{
 "cells": [
  {
   "cell_type": "code",
   "execution_count": 72,
   "metadata": {},
   "outputs": [],
   "source": [
    "import pandas as pd\n",
    "import os\n",
    "import random\n",
    "import numpy as np\n",
    "import matplotlib.pyplot as plt\n",
    "%matplotlib inline\n",
    "plt.rcParams[\"figure.figsize\"] = [20, 15]"
   ]
  },
  {
   "cell_type": "markdown",
   "metadata": {},
   "source": [
    "Poberemo podatke o številu okužb po dnevih"
   ]
  },
  {
   "cell_type": "code",
   "execution_count": 3,
   "metadata": {},
   "outputs": [
    {
     "data": {
      "text/html": [
       "<div>\n",
       "<style scoped>\n",
       "    .dataframe tbody tr th:only-of-type {\n",
       "        vertical-align: middle;\n",
       "    }\n",
       "\n",
       "    .dataframe tbody tr th {\n",
       "        vertical-align: top;\n",
       "    }\n",
       "\n",
       "    .dataframe thead th {\n",
       "        text-align: right;\n",
       "    }\n",
       "</style>\n",
       "<table border=\"1\" class=\"dataframe\">\n",
       "  <thead>\n",
       "    <tr style=\"text-align: right;\">\n",
       "      <th></th>\n",
       "      <th>Province/State</th>\n",
       "      <th>Country/Region</th>\n",
       "      <th>Lat</th>\n",
       "      <th>Long</th>\n",
       "      <th>1/22/20</th>\n",
       "      <th>1/23/20</th>\n",
       "      <th>1/24/20</th>\n",
       "      <th>1/25/20</th>\n",
       "      <th>1/26/20</th>\n",
       "      <th>1/27/20</th>\n",
       "      <th>...</th>\n",
       "      <th>3/7/20</th>\n",
       "      <th>3/8/20</th>\n",
       "      <th>3/9/20</th>\n",
       "      <th>3/10/20</th>\n",
       "      <th>3/11/20</th>\n",
       "      <th>3/12/20</th>\n",
       "      <th>3/13/20</th>\n",
       "      <th>3/14/20</th>\n",
       "      <th>3/15/20</th>\n",
       "      <th>3/16/20</th>\n",
       "    </tr>\n",
       "  </thead>\n",
       "  <tbody>\n",
       "    <tr>\n",
       "      <th>0</th>\n",
       "      <td>NaN</td>\n",
       "      <td>Thailand</td>\n",
       "      <td>15.0000</td>\n",
       "      <td>101.0000</td>\n",
       "      <td>2</td>\n",
       "      <td>3</td>\n",
       "      <td>5</td>\n",
       "      <td>7</td>\n",
       "      <td>8</td>\n",
       "      <td>8</td>\n",
       "      <td>...</td>\n",
       "      <td>50</td>\n",
       "      <td>50</td>\n",
       "      <td>50</td>\n",
       "      <td>53</td>\n",
       "      <td>59</td>\n",
       "      <td>70</td>\n",
       "      <td>75</td>\n",
       "      <td>82</td>\n",
       "      <td>114</td>\n",
       "      <td>147</td>\n",
       "    </tr>\n",
       "    <tr>\n",
       "      <th>1</th>\n",
       "      <td>NaN</td>\n",
       "      <td>Japan</td>\n",
       "      <td>36.0000</td>\n",
       "      <td>138.0000</td>\n",
       "      <td>2</td>\n",
       "      <td>1</td>\n",
       "      <td>2</td>\n",
       "      <td>2</td>\n",
       "      <td>4</td>\n",
       "      <td>4</td>\n",
       "      <td>...</td>\n",
       "      <td>461</td>\n",
       "      <td>502</td>\n",
       "      <td>511</td>\n",
       "      <td>581</td>\n",
       "      <td>639</td>\n",
       "      <td>639</td>\n",
       "      <td>701</td>\n",
       "      <td>773</td>\n",
       "      <td>839</td>\n",
       "      <td>825</td>\n",
       "    </tr>\n",
       "    <tr>\n",
       "      <th>2</th>\n",
       "      <td>NaN</td>\n",
       "      <td>Singapore</td>\n",
       "      <td>1.2833</td>\n",
       "      <td>103.8333</td>\n",
       "      <td>0</td>\n",
       "      <td>1</td>\n",
       "      <td>3</td>\n",
       "      <td>3</td>\n",
       "      <td>4</td>\n",
       "      <td>5</td>\n",
       "      <td>...</td>\n",
       "      <td>138</td>\n",
       "      <td>150</td>\n",
       "      <td>150</td>\n",
       "      <td>160</td>\n",
       "      <td>178</td>\n",
       "      <td>178</td>\n",
       "      <td>200</td>\n",
       "      <td>212</td>\n",
       "      <td>226</td>\n",
       "      <td>243</td>\n",
       "    </tr>\n",
       "    <tr>\n",
       "      <th>3</th>\n",
       "      <td>NaN</td>\n",
       "      <td>Nepal</td>\n",
       "      <td>28.1667</td>\n",
       "      <td>84.2500</td>\n",
       "      <td>0</td>\n",
       "      <td>0</td>\n",
       "      <td>0</td>\n",
       "      <td>1</td>\n",
       "      <td>1</td>\n",
       "      <td>1</td>\n",
       "      <td>...</td>\n",
       "      <td>1</td>\n",
       "      <td>1</td>\n",
       "      <td>1</td>\n",
       "      <td>1</td>\n",
       "      <td>1</td>\n",
       "      <td>1</td>\n",
       "      <td>1</td>\n",
       "      <td>1</td>\n",
       "      <td>1</td>\n",
       "      <td>1</td>\n",
       "    </tr>\n",
       "    <tr>\n",
       "      <th>4</th>\n",
       "      <td>NaN</td>\n",
       "      <td>Malaysia</td>\n",
       "      <td>2.5000</td>\n",
       "      <td>112.5000</td>\n",
       "      <td>0</td>\n",
       "      <td>0</td>\n",
       "      <td>0</td>\n",
       "      <td>3</td>\n",
       "      <td>4</td>\n",
       "      <td>4</td>\n",
       "      <td>...</td>\n",
       "      <td>93</td>\n",
       "      <td>99</td>\n",
       "      <td>117</td>\n",
       "      <td>129</td>\n",
       "      <td>149</td>\n",
       "      <td>149</td>\n",
       "      <td>197</td>\n",
       "      <td>238</td>\n",
       "      <td>428</td>\n",
       "      <td>566</td>\n",
       "    </tr>\n",
       "    <tr>\n",
       "      <th>...</th>\n",
       "      <td>...</td>\n",
       "      <td>...</td>\n",
       "      <td>...</td>\n",
       "      <td>...</td>\n",
       "      <td>...</td>\n",
       "      <td>...</td>\n",
       "      <td>...</td>\n",
       "      <td>...</td>\n",
       "      <td>...</td>\n",
       "      <td>...</td>\n",
       "      <td>...</td>\n",
       "      <td>...</td>\n",
       "      <td>...</td>\n",
       "      <td>...</td>\n",
       "      <td>...</td>\n",
       "      <td>...</td>\n",
       "      <td>...</td>\n",
       "      <td>...</td>\n",
       "      <td>...</td>\n",
       "      <td>...</td>\n",
       "      <td>...</td>\n",
       "    </tr>\n",
       "    <tr>\n",
       "      <th>458</th>\n",
       "      <td>NaN</td>\n",
       "      <td>Somalia</td>\n",
       "      <td>5.1521</td>\n",
       "      <td>46.1996</td>\n",
       "      <td>0</td>\n",
       "      <td>0</td>\n",
       "      <td>0</td>\n",
       "      <td>0</td>\n",
       "      <td>0</td>\n",
       "      <td>0</td>\n",
       "      <td>...</td>\n",
       "      <td>0</td>\n",
       "      <td>0</td>\n",
       "      <td>0</td>\n",
       "      <td>0</td>\n",
       "      <td>0</td>\n",
       "      <td>0</td>\n",
       "      <td>0</td>\n",
       "      <td>0</td>\n",
       "      <td>0</td>\n",
       "      <td>1</td>\n",
       "    </tr>\n",
       "    <tr>\n",
       "      <th>459</th>\n",
       "      <td>NaN</td>\n",
       "      <td>Tanzania</td>\n",
       "      <td>-6.3690</td>\n",
       "      <td>34.8888</td>\n",
       "      <td>0</td>\n",
       "      <td>0</td>\n",
       "      <td>0</td>\n",
       "      <td>0</td>\n",
       "      <td>0</td>\n",
       "      <td>0</td>\n",
       "      <td>...</td>\n",
       "      <td>0</td>\n",
       "      <td>0</td>\n",
       "      <td>0</td>\n",
       "      <td>0</td>\n",
       "      <td>0</td>\n",
       "      <td>0</td>\n",
       "      <td>0</td>\n",
       "      <td>0</td>\n",
       "      <td>0</td>\n",
       "      <td>1</td>\n",
       "    </tr>\n",
       "    <tr>\n",
       "      <th>460</th>\n",
       "      <td>NaN</td>\n",
       "      <td>The Bahamas</td>\n",
       "      <td>24.2500</td>\n",
       "      <td>-76.0000</td>\n",
       "      <td>0</td>\n",
       "      <td>0</td>\n",
       "      <td>0</td>\n",
       "      <td>0</td>\n",
       "      <td>0</td>\n",
       "      <td>0</td>\n",
       "      <td>...</td>\n",
       "      <td>0</td>\n",
       "      <td>0</td>\n",
       "      <td>0</td>\n",
       "      <td>0</td>\n",
       "      <td>0</td>\n",
       "      <td>0</td>\n",
       "      <td>0</td>\n",
       "      <td>0</td>\n",
       "      <td>0</td>\n",
       "      <td>1</td>\n",
       "    </tr>\n",
       "    <tr>\n",
       "      <th>461</th>\n",
       "      <td>Virgin Islands</td>\n",
       "      <td>US</td>\n",
       "      <td>18.3358</td>\n",
       "      <td>-64.8963</td>\n",
       "      <td>0</td>\n",
       "      <td>0</td>\n",
       "      <td>0</td>\n",
       "      <td>0</td>\n",
       "      <td>0</td>\n",
       "      <td>0</td>\n",
       "      <td>...</td>\n",
       "      <td>0</td>\n",
       "      <td>0</td>\n",
       "      <td>0</td>\n",
       "      <td>0</td>\n",
       "      <td>0</td>\n",
       "      <td>0</td>\n",
       "      <td>0</td>\n",
       "      <td>1</td>\n",
       "      <td>1</td>\n",
       "      <td>1</td>\n",
       "    </tr>\n",
       "    <tr>\n",
       "      <th>462</th>\n",
       "      <td>Cayman Islands</td>\n",
       "      <td>United Kingdom</td>\n",
       "      <td>19.3133</td>\n",
       "      <td>-81.2546</td>\n",
       "      <td>0</td>\n",
       "      <td>0</td>\n",
       "      <td>0</td>\n",
       "      <td>0</td>\n",
       "      <td>0</td>\n",
       "      <td>0</td>\n",
       "      <td>...</td>\n",
       "      <td>0</td>\n",
       "      <td>0</td>\n",
       "      <td>0</td>\n",
       "      <td>0</td>\n",
       "      <td>0</td>\n",
       "      <td>0</td>\n",
       "      <td>1</td>\n",
       "      <td>1</td>\n",
       "      <td>1</td>\n",
       "      <td>1</td>\n",
       "    </tr>\n",
       "  </tbody>\n",
       "</table>\n",
       "<p>463 rows × 59 columns</p>\n",
       "</div>"
      ],
      "text/plain": [
       "     Province/State  Country/Region      Lat      Long  1/22/20  1/23/20  \\\n",
       "0               NaN        Thailand  15.0000  101.0000        2        3   \n",
       "1               NaN           Japan  36.0000  138.0000        2        1   \n",
       "2               NaN       Singapore   1.2833  103.8333        0        1   \n",
       "3               NaN           Nepal  28.1667   84.2500        0        0   \n",
       "4               NaN        Malaysia   2.5000  112.5000        0        0   \n",
       "..              ...             ...      ...       ...      ...      ...   \n",
       "458             NaN         Somalia   5.1521   46.1996        0        0   \n",
       "459             NaN        Tanzania  -6.3690   34.8888        0        0   \n",
       "460             NaN     The Bahamas  24.2500  -76.0000        0        0   \n",
       "461  Virgin Islands              US  18.3358  -64.8963        0        0   \n",
       "462  Cayman Islands  United Kingdom  19.3133  -81.2546        0        0   \n",
       "\n",
       "     1/24/20  1/25/20  1/26/20  1/27/20  ...  3/7/20  3/8/20  3/9/20  3/10/20  \\\n",
       "0          5        7        8        8  ...      50      50      50       53   \n",
       "1          2        2        4        4  ...     461     502     511      581   \n",
       "2          3        3        4        5  ...     138     150     150      160   \n",
       "3          0        1        1        1  ...       1       1       1        1   \n",
       "4          0        3        4        4  ...      93      99     117      129   \n",
       "..       ...      ...      ...      ...  ...     ...     ...     ...      ...   \n",
       "458        0        0        0        0  ...       0       0       0        0   \n",
       "459        0        0        0        0  ...       0       0       0        0   \n",
       "460        0        0        0        0  ...       0       0       0        0   \n",
       "461        0        0        0        0  ...       0       0       0        0   \n",
       "462        0        0        0        0  ...       0       0       0        0   \n",
       "\n",
       "     3/11/20  3/12/20  3/13/20  3/14/20  3/15/20  3/16/20  \n",
       "0         59       70       75       82      114      147  \n",
       "1        639      639      701      773      839      825  \n",
       "2        178      178      200      212      226      243  \n",
       "3          1        1        1        1        1        1  \n",
       "4        149      149      197      238      428      566  \n",
       "..       ...      ...      ...      ...      ...      ...  \n",
       "458        0        0        0        0        0        1  \n",
       "459        0        0        0        0        0        1  \n",
       "460        0        0        0        0        0        1  \n",
       "461        0        0        0        1        1        1  \n",
       "462        0        0        1        1        1        1  \n",
       "\n",
       "[463 rows x 59 columns]"
      ]
     },
     "execution_count": 3,
     "metadata": {},
     "output_type": "execute_result"
    }
   ],
   "source": [
    "path=\"./csse_covid_19_data/csse_covid_19_time_series/time_series_19-covid-Confirmed.csv\"\n",
    "df=pd.read_csv(path)\n",
    "width=len(df.columns)-4 #Širina časovnega zaporedja\n",
    "height=len(df)\n",
    "df"
   ]
  },
  {
   "cell_type": "markdown",
   "metadata": {},
   "source": [
    "Iz teh podatkov naredimo seznam časovnih vrst. "
   ]
  },
  {
   "cell_type": "code",
   "execution_count": 12,
   "metadata": {},
   "outputs": [],
   "source": [
    "series=[]\n",
    "for row in range(height):\n",
    "    data=[]\n",
    "    for col in range(4,len(df.columns)):\n",
    "        data.append(df[df.columns[col]][row])\n",
    "    series.append(data)"
   ]
  },
  {
   "cell_type": "markdown",
   "metadata": {},
   "source": [
    "Vzamemo neko funkcijo za napako ki je odporna na b=0, ampak vseeno rajši aproksimira relativno napako, ker nas ta precej bolj zanima"
   ]
  },
  {
   "cell_type": "code",
   "execution_count": 13,
   "metadata": {},
   "outputs": [],
   "source": [
    "def err(x,a):\n",
    "    if abs(x-a)<=10 or a==0:#Za majhne primere je ok če je približno blizu\n",
    "        return 0\n",
    "    else:\n",
    "        return abs(x/a-1)"
   ]
  },
  {
   "cell_type": "markdown",
   "metadata": {},
   "source": [
    "Napišemo si funkcijo ki oceni nek (model?) algoritem."
   ]
  },
  {
   "cell_type": "code",
   "execution_count": 14,
   "metadata": {},
   "outputs": [],
   "source": [
    "class Data_segment:\n",
    "    def __init__(self,input_list):\n",
    "        self.input=input_list[:-1]\n",
    "        self.ans=input_list[-1]"
   ]
  },
  {
   "cell_type": "code",
   "execution_count": 15,
   "metadata": {},
   "outputs": [],
   "source": [
    "def random_input_generator(length,previous_data_length):\n",
    "    inputs=[]\n",
    "    tries=1\n",
    "    done=0\n",
    "    while done<length:\n",
    "        randRow=random.randrange(height)\n",
    "        randIndexLeft=random.randrange(width-previous_data_length-1)\n",
    "        ls=[]\n",
    "        for i in range(previous_data_length+1):\n",
    "            ls.append(series[randRow][randIndexLeft+i])\n",
    "        if(ls[previous_data_length-1]==0):\n",
    "            continue\n",
    "        inputs.append(Data_segment(ls))\n",
    "        done+=1\n",
    "    return inputs"
   ]
  },
  {
   "cell_type": "code",
   "execution_count": 16,
   "metadata": {},
   "outputs": [],
   "source": [
    "def evaluate(prediction):\n",
    "    err_sum=0#vsota relativnih napak\n",
    "    tries=len(inputs)\n",
    "    previous_data_length=10#Koliko podatkov nazaj dobi prediction\n",
    "    for input in inputs:\n",
    "        response=prediction(input.input,previous_data_length)\n",
    "        correct=input.ans\n",
    "        error=err(response,correct)\n",
    "        #print(str(input.input)+\" \"+str(response)+\" \"+str(input.ans)+\" \"+str(error))\n",
    "        err_sum+=error\n",
    "    return err_sum/tries"
   ]
  },
  {
   "cell_type": "code",
   "execution_count": 17,
   "metadata": {},
   "outputs": [],
   "source": [
    "inputs=random_input_generator(100000,10)"
   ]
  },
  {
   "cell_type": "markdown",
   "metadata": {},
   "source": [
    "Prvi poskus: število okužb jutri bo 0. To bi moralo dati slab rezultat"
   ]
  },
  {
   "cell_type": "code",
   "execution_count": 18,
   "metadata": {},
   "outputs": [
    {
     "name": "stdout",
     "output_type": "stream",
     "text": [
      "0.54416\n"
     ]
    }
   ],
   "source": [
    "def return_healthy_for_sure(ls,length):\n",
    "    return 0\n",
    "print(evaluate(return_healthy_for_sure))"
   ]
  },
  {
   "cell_type": "markdown",
   "metadata": {},
   "source": [
    "Verjetno je precej boljša ideja da vrnemo število okuženih včeraj. Vsaj spodnja meja se ujema..."
   ]
  },
  {
   "cell_type": "code",
   "execution_count": 19,
   "metadata": {},
   "outputs": [
    {
     "name": "stdout",
     "output_type": "stream",
     "text": [
      "0.032683616049943846\n"
     ]
    }
   ],
   "source": [
    "def return_yesterday(ls,length):\n",
    "    return ls[-1]\n",
    "print(evaluate(return_yesterday))"
   ]
  },
  {
   "cell_type": "markdown",
   "metadata": {},
   "source": [
    "Kot kaže je uporaba malo logike precej boljša. Kdo bi si mislil. Sedaj naredimo interpolacijo iz enega dneva nazaj"
   ]
  },
  {
   "cell_type": "code",
   "execution_count": 20,
   "metadata": {},
   "outputs": [
    {
     "name": "stdout",
     "output_type": "stream",
     "text": [
      "0.020701041147059115\n"
     ]
    }
   ],
   "source": [
    "def small_interpolation(ls,length):\n",
    "    return ls[-1]+(ls[-1]-ls[-2])\n",
    "print(evaluate(small_interpolation))"
   ]
  },
  {
   "cell_type": "markdown",
   "metadata": {},
   "source": [
    "Hm to je morda malo boljše, ampak je izboljšava precej majhna. Ni mi še jasno zakaj..."
   ]
  },
  {
   "cell_type": "markdown",
   "metadata": {},
   "source": [
    "Ok poskusimo sedaj interpolirati tako da vzamemo rast zadnjih dveh dni"
   ]
  },
  {
   "cell_type": "code",
   "execution_count": 21,
   "metadata": {},
   "outputs": [
    {
     "name": "stdout",
     "output_type": "stream",
     "text": [
      "0.017260619717186808\n"
     ]
    }
   ],
   "source": [
    "def medium_interpolation(ls,length):\n",
    "    return ls[-1]+(ls[-1]-ls[-3])/2\n",
    "print(evaluate(medium_interpolation))"
   ]
  },
  {
   "cell_type": "markdown",
   "metadata": {},
   "source": [
    "Hm sedaj je rezultat še boljši. Vzemimo 3 dni"
   ]
  },
  {
   "cell_type": "code",
   "execution_count": 22,
   "metadata": {},
   "outputs": [
    {
     "name": "stdout",
     "output_type": "stream",
     "text": [
      "0.01714290861907084\n"
     ]
    }
   ],
   "source": [
    "def longer_interpolation(ls,length):\n",
    "    return ls[-1]+(ls[-1]-ls[-4])/3\n",
    "print(evaluate(longer_interpolation))"
   ]
  },
  {
   "cell_type": "markdown",
   "metadata": {},
   "source": [
    "Spet boljše. Poskusimo 4 dni."
   ]
  },
  {
   "cell_type": "code",
   "execution_count": 23,
   "metadata": {},
   "outputs": [
    {
     "name": "stdout",
     "output_type": "stream",
     "text": [
      "0.017661415129664303\n"
     ]
    }
   ],
   "source": [
    "def long_interpolation(ls,length):\n",
    "    return ls[-1]+(ls[-1]-ls[-5])/4\n",
    "print(evaluate(long_interpolation))"
   ]
  },
  {
   "cell_type": "markdown",
   "metadata": {},
   "source": [
    "Sedaj dobimo malo slabši rezultat. Recimo da je interpolacija za 3 dni nekako kar v redu kar se tiče linearnih interpolacij. Ni očitno zakaj bi bila, ampak ne pričakujem da bo to najboljše kar bom lahko našel. Poskusimo sedaj z eksponentno funkcijo. Torej razmerje med predvčerajšnjim in včeraj bi moralo biti podobno razmerju med včeraj in danes. "
   ]
  },
  {
   "cell_type": "code",
   "execution_count": 24,
   "metadata": {},
   "outputs": [
    {
     "name": "stdout",
     "output_type": "stream",
     "text": [
      "0.07288049978187981\n"
     ]
    }
   ],
   "source": [
    "def ratio_interpolation(ls,length):\n",
    "    if ls[-3]==0:\n",
    "        return longer_interpolation(ls,length)\n",
    "    return ls[-1]*(ls[-2]/ls[-3])\n",
    "print(evaluate(ratio_interpolation))"
   ]
  },
  {
   "cell_type": "markdown",
   "metadata": {},
   "source": [
    "Izgleda slabše?! Oglejmo si kako naši algoritmi delujejo s pomočjo grafa"
   ]
  },
  {
   "cell_type": "code",
   "execution_count": 42,
   "metadata": {},
   "outputs": [],
   "source": [
    "row=series[random.randrange(len(series))]"
   ]
  },
  {
   "cell_type": "code",
   "execution_count": 75,
   "metadata": {},
   "outputs": [
    {
     "data": {
      "text/plain": [
       "[<matplotlib.lines.Line2D at 0x279a1e9ba08>]"
      ]
     },
     "execution_count": 75,
     "metadata": {},
     "output_type": "execute_result"
    },
    {
     "data": {
      "image/png": "[encoded data removed]",
      "text/plain": [
       "<Figure size 1440x1080 with 2 Axes>"
      ]
     },
     "metadata": {
      "needs_background": "light"
     },
     "output_type": "display_data"
    }
   ],
   "source": [
    "x=np.arange(0, len(row), 1);\n",
    "y=[]\n",
    "lin_p=[]\n",
    "exp_p=[]\n",
    "for i in range(len(row)):\n",
    "    y.append(row[i])\n",
    "    \n",
    "for i in range(10):\n",
    "    lin_p.append(row[i])\n",
    "for i in range(10,len(row)):\n",
    "    lin_p.append(longer_interpolation(y[i-10:i],10))\n",
    "    \n",
    "for i in range(10):\n",
    "    exp_p.append(row[i])\n",
    "for i in range(10,len(row)):\n",
    "    exp_p.append(ratio_interpolation(y[i-10:i],10))\n",
    "\n",
    "errors_lin=[err(lin_p[i],y[i]) for i in range(len(row))]\n",
    "errors_exp=[err(exp_p[i],y[i]) for i in range(len(row))]\n",
    "plt.subplot(2, 1, 1)\n",
    "plt.plot(x, y)\n",
    "plt.plot(x, lin_p)\n",
    "plt.plot(x, exp_p)\n",
    "\n",
    "plt.subplot(2, 1, 2)\n",
    "plt.plot(x, errors_lin)\n",
    "plt.plot(x, errors_exp)"
   ]
  },
  {
   "cell_type": "code",
   "execution_count": null,
   "metadata": {},
   "outputs": [],
   "source": []
  }
 ],
 "metadata": {
  "kernelspec": {
   "display_name": "Python 3",
   "language": "python",
   "name": "python3"
  },
  "language_info": {
   "codemirror_mode": {
    "name": "ipython",
    "version": 3
   },
   "file_extension": ".py",
   "mimetype": "text/x-python",
   "name": "python",
   "nbconvert_exporter": "python",
   "pygments_lexer": "ipython3",
   "version": "3.7.4"
  }
 },
 "nbformat": 4,
 "nbformat_minor": 4
}
