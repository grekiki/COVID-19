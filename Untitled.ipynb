{
 "cells": [
  {
   "cell_type": "code",
   "execution_count": 3,
   "metadata": {},
   "outputs": [],
   "source": [
    "import pandas as pd\n",
    "import os\n",
    "import random\n",
    "import numpy as np\n",
    "import matplotlib.pyplot as plt\n",
    "%matplotlib inline\n",
    "plt.rcParams[\"figure.figsize\"] = [20, 15]"
   ]
  },
  {
   "cell_type": "markdown",
   "metadata": {},
   "source": [
    "Poberemo podatke o številu okužb po dnevih"
   ]
  },
  {
   "cell_type": "code",
   "execution_count": 6,
   "metadata": {},
   "outputs": [
    {
     "data": {
      "text/html": [
       "<div>\n",
       "<style scoped>\n",
       "    .dataframe tbody tr th:only-of-type {\n",
       "        vertical-align: middle;\n",
       "    }\n",
       "\n",
       "    .dataframe tbody tr th {\n",
       "        vertical-align: top;\n",
       "    }\n",
       "\n",
       "    .dataframe thead th {\n",
       "        text-align: right;\n",
       "    }\n",
       "</style>\n",
       "<table border=\"1\" class=\"dataframe\">\n",
       "  <thead>\n",
       "    <tr style=\"text-align: right;\">\n",
       "      <th></th>\n",
       "      <th>Province/State</th>\n",
       "      <th>Country/Region</th>\n",
       "      <th>Lat</th>\n",
       "      <th>Long</th>\n",
       "      <th>1/22/20</th>\n",
       "      <th>1/23/20</th>\n",
       "      <th>1/24/20</th>\n",
       "      <th>1/25/20</th>\n",
       "      <th>1/26/20</th>\n",
       "      <th>1/27/20</th>\n",
       "      <th>...</th>\n",
       "      <th>3/21/20</th>\n",
       "      <th>3/22/20</th>\n",
       "      <th>3/23/20</th>\n",
       "      <th>3/24/20</th>\n",
       "      <th>3/25/20</th>\n",
       "      <th>3/26/20</th>\n",
       "      <th>3/27/20</th>\n",
       "      <th>3/28/20</th>\n",
       "      <th>3/29/20</th>\n",
       "      <th>3/30/20</th>\n",
       "    </tr>\n",
       "  </thead>\n",
       "  <tbody>\n",
       "    <tr>\n",
       "      <th>0</th>\n",
       "      <td>NaN</td>\n",
       "      <td>Afghanistan</td>\n",
       "      <td>33.0000</td>\n",
       "      <td>65.0000</td>\n",
       "      <td>0</td>\n",
       "      <td>0</td>\n",
       "      <td>0</td>\n",
       "      <td>0</td>\n",
       "      <td>0</td>\n",
       "      <td>0</td>\n",
       "      <td>...</td>\n",
       "      <td>24</td>\n",
       "      <td>40</td>\n",
       "      <td>40</td>\n",
       "      <td>74</td>\n",
       "      <td>84</td>\n",
       "      <td>94</td>\n",
       "      <td>110</td>\n",
       "      <td>110</td>\n",
       "      <td>120</td>\n",
       "      <td>170</td>\n",
       "    </tr>\n",
       "    <tr>\n",
       "      <th>1</th>\n",
       "      <td>NaN</td>\n",
       "      <td>Albania</td>\n",
       "      <td>41.1533</td>\n",
       "      <td>20.1683</td>\n",
       "      <td>0</td>\n",
       "      <td>0</td>\n",
       "      <td>0</td>\n",
       "      <td>0</td>\n",
       "      <td>0</td>\n",
       "      <td>0</td>\n",
       "      <td>...</td>\n",
       "      <td>76</td>\n",
       "      <td>89</td>\n",
       "      <td>104</td>\n",
       "      <td>123</td>\n",
       "      <td>146</td>\n",
       "      <td>174</td>\n",
       "      <td>186</td>\n",
       "      <td>197</td>\n",
       "      <td>212</td>\n",
       "      <td>223</td>\n",
       "    </tr>\n",
       "    <tr>\n",
       "      <th>2</th>\n",
       "      <td>NaN</td>\n",
       "      <td>Algeria</td>\n",
       "      <td>28.0339</td>\n",
       "      <td>1.6596</td>\n",
       "      <td>0</td>\n",
       "      <td>0</td>\n",
       "      <td>0</td>\n",
       "      <td>0</td>\n",
       "      <td>0</td>\n",
       "      <td>0</td>\n",
       "      <td>...</td>\n",
       "      <td>139</td>\n",
       "      <td>201</td>\n",
       "      <td>230</td>\n",
       "      <td>264</td>\n",
       "      <td>302</td>\n",
       "      <td>367</td>\n",
       "      <td>409</td>\n",
       "      <td>454</td>\n",
       "      <td>511</td>\n",
       "      <td>584</td>\n",
       "    </tr>\n",
       "    <tr>\n",
       "      <th>3</th>\n",
       "      <td>NaN</td>\n",
       "      <td>Andorra</td>\n",
       "      <td>42.5063</td>\n",
       "      <td>1.5218</td>\n",
       "      <td>0</td>\n",
       "      <td>0</td>\n",
       "      <td>0</td>\n",
       "      <td>0</td>\n",
       "      <td>0</td>\n",
       "      <td>0</td>\n",
       "      <td>...</td>\n",
       "      <td>88</td>\n",
       "      <td>113</td>\n",
       "      <td>133</td>\n",
       "      <td>164</td>\n",
       "      <td>188</td>\n",
       "      <td>224</td>\n",
       "      <td>267</td>\n",
       "      <td>308</td>\n",
       "      <td>334</td>\n",
       "      <td>370</td>\n",
       "    </tr>\n",
       "    <tr>\n",
       "      <th>4</th>\n",
       "      <td>NaN</td>\n",
       "      <td>Angola</td>\n",
       "      <td>-11.2027</td>\n",
       "      <td>17.8739</td>\n",
       "      <td>0</td>\n",
       "      <td>0</td>\n",
       "      <td>0</td>\n",
       "      <td>0</td>\n",
       "      <td>0</td>\n",
       "      <td>0</td>\n",
       "      <td>...</td>\n",
       "      <td>2</td>\n",
       "      <td>2</td>\n",
       "      <td>3</td>\n",
       "      <td>3</td>\n",
       "      <td>3</td>\n",
       "      <td>4</td>\n",
       "      <td>4</td>\n",
       "      <td>5</td>\n",
       "      <td>7</td>\n",
       "      <td>7</td>\n",
       "    </tr>\n",
       "    <tr>\n",
       "      <th>...</th>\n",
       "      <td>...</td>\n",
       "      <td>...</td>\n",
       "      <td>...</td>\n",
       "      <td>...</td>\n",
       "      <td>...</td>\n",
       "      <td>...</td>\n",
       "      <td>...</td>\n",
       "      <td>...</td>\n",
       "      <td>...</td>\n",
       "      <td>...</td>\n",
       "      <td>...</td>\n",
       "      <td>...</td>\n",
       "      <td>...</td>\n",
       "      <td>...</td>\n",
       "      <td>...</td>\n",
       "      <td>...</td>\n",
       "      <td>...</td>\n",
       "      <td>...</td>\n",
       "      <td>...</td>\n",
       "      <td>...</td>\n",
       "      <td>...</td>\n",
       "    </tr>\n",
       "    <tr>\n",
       "      <th>249</th>\n",
       "      <td>Anguilla</td>\n",
       "      <td>United Kingdom</td>\n",
       "      <td>18.2206</td>\n",
       "      <td>-63.0686</td>\n",
       "      <td>0</td>\n",
       "      <td>0</td>\n",
       "      <td>0</td>\n",
       "      <td>0</td>\n",
       "      <td>0</td>\n",
       "      <td>0</td>\n",
       "      <td>...</td>\n",
       "      <td>0</td>\n",
       "      <td>0</td>\n",
       "      <td>0</td>\n",
       "      <td>0</td>\n",
       "      <td>0</td>\n",
       "      <td>0</td>\n",
       "      <td>0</td>\n",
       "      <td>2</td>\n",
       "      <td>2</td>\n",
       "      <td>2</td>\n",
       "    </tr>\n",
       "    <tr>\n",
       "      <th>250</th>\n",
       "      <td>British Virgin Islands</td>\n",
       "      <td>United Kingdom</td>\n",
       "      <td>18.4207</td>\n",
       "      <td>-64.6400</td>\n",
       "      <td>0</td>\n",
       "      <td>0</td>\n",
       "      <td>0</td>\n",
       "      <td>0</td>\n",
       "      <td>0</td>\n",
       "      <td>0</td>\n",
       "      <td>...</td>\n",
       "      <td>0</td>\n",
       "      <td>0</td>\n",
       "      <td>0</td>\n",
       "      <td>0</td>\n",
       "      <td>0</td>\n",
       "      <td>0</td>\n",
       "      <td>0</td>\n",
       "      <td>2</td>\n",
       "      <td>2</td>\n",
       "      <td>2</td>\n",
       "    </tr>\n",
       "    <tr>\n",
       "      <th>251</th>\n",
       "      <td>Turks and Caicos Islands</td>\n",
       "      <td>United Kingdom</td>\n",
       "      <td>21.6940</td>\n",
       "      <td>-71.7979</td>\n",
       "      <td>0</td>\n",
       "      <td>0</td>\n",
       "      <td>0</td>\n",
       "      <td>0</td>\n",
       "      <td>0</td>\n",
       "      <td>0</td>\n",
       "      <td>...</td>\n",
       "      <td>0</td>\n",
       "      <td>0</td>\n",
       "      <td>0</td>\n",
       "      <td>0</td>\n",
       "      <td>0</td>\n",
       "      <td>0</td>\n",
       "      <td>0</td>\n",
       "      <td>4</td>\n",
       "      <td>4</td>\n",
       "      <td>5</td>\n",
       "    </tr>\n",
       "    <tr>\n",
       "      <th>252</th>\n",
       "      <td>NaN</td>\n",
       "      <td>MS Zaandam</td>\n",
       "      <td>0.0000</td>\n",
       "      <td>0.0000</td>\n",
       "      <td>0</td>\n",
       "      <td>0</td>\n",
       "      <td>0</td>\n",
       "      <td>0</td>\n",
       "      <td>0</td>\n",
       "      <td>0</td>\n",
       "      <td>...</td>\n",
       "      <td>0</td>\n",
       "      <td>0</td>\n",
       "      <td>0</td>\n",
       "      <td>0</td>\n",
       "      <td>0</td>\n",
       "      <td>0</td>\n",
       "      <td>0</td>\n",
       "      <td>2</td>\n",
       "      <td>2</td>\n",
       "      <td>2</td>\n",
       "    </tr>\n",
       "    <tr>\n",
       "      <th>253</th>\n",
       "      <td>NaN</td>\n",
       "      <td>Botswana</td>\n",
       "      <td>-22.3285</td>\n",
       "      <td>24.6849</td>\n",
       "      <td>0</td>\n",
       "      <td>0</td>\n",
       "      <td>0</td>\n",
       "      <td>0</td>\n",
       "      <td>0</td>\n",
       "      <td>0</td>\n",
       "      <td>...</td>\n",
       "      <td>0</td>\n",
       "      <td>0</td>\n",
       "      <td>0</td>\n",
       "      <td>0</td>\n",
       "      <td>0</td>\n",
       "      <td>0</td>\n",
       "      <td>0</td>\n",
       "      <td>0</td>\n",
       "      <td>0</td>\n",
       "      <td>3</td>\n",
       "    </tr>\n",
       "  </tbody>\n",
       "</table>\n",
       "<p>254 rows × 73 columns</p>\n",
       "</div>"
      ],
      "text/plain": [
       "               Province/State  Country/Region      Lat     Long  1/22/20  \\\n",
       "0                         NaN     Afghanistan  33.0000  65.0000        0   \n",
       "1                         NaN         Albania  41.1533  20.1683        0   \n",
       "2                         NaN         Algeria  28.0339   1.6596        0   \n",
       "3                         NaN         Andorra  42.5063   1.5218        0   \n",
       "4                         NaN          Angola -11.2027  17.8739        0   \n",
       "..                        ...             ...      ...      ...      ...   \n",
       "249                  Anguilla  United Kingdom  18.2206 -63.0686        0   \n",
       "250    British Virgin Islands  United Kingdom  18.4207 -64.6400        0   \n",
       "251  Turks and Caicos Islands  United Kingdom  21.6940 -71.7979        0   \n",
       "252                       NaN      MS Zaandam   0.0000   0.0000        0   \n",
       "253                       NaN        Botswana -22.3285  24.6849        0   \n",
       "\n",
       "     1/23/20  1/24/20  1/25/20  1/26/20  1/27/20  ...  3/21/20  3/22/20  \\\n",
       "0          0        0        0        0        0  ...       24       40   \n",
       "1          0        0        0        0        0  ...       76       89   \n",
       "2          0        0        0        0        0  ...      139      201   \n",
       "3          0        0        0        0        0  ...       88      113   \n",
       "4          0        0        0        0        0  ...        2        2   \n",
       "..       ...      ...      ...      ...      ...  ...      ...      ...   \n",
       "249        0        0        0        0        0  ...        0        0   \n",
       "250        0        0        0        0        0  ...        0        0   \n",
       "251        0        0        0        0        0  ...        0        0   \n",
       "252        0        0        0        0        0  ...        0        0   \n",
       "253        0        0        0        0        0  ...        0        0   \n",
       "\n",
       "     3/23/20  3/24/20  3/25/20  3/26/20  3/27/20  3/28/20  3/29/20  3/30/20  \n",
       "0         40       74       84       94      110      110      120      170  \n",
       "1        104      123      146      174      186      197      212      223  \n",
       "2        230      264      302      367      409      454      511      584  \n",
       "3        133      164      188      224      267      308      334      370  \n",
       "4          3        3        3        4        4        5        7        7  \n",
       "..       ...      ...      ...      ...      ...      ...      ...      ...  \n",
       "249        0        0        0        0        0        2        2        2  \n",
       "250        0        0        0        0        0        2        2        2  \n",
       "251        0        0        0        0        0        4        4        5  \n",
       "252        0        0        0        0        0        2        2        2  \n",
       "253        0        0        0        0        0        0        0        3  \n",
       "\n",
       "[254 rows x 73 columns]"
      ]
     },
     "execution_count": 6,
     "metadata": {},
     "output_type": "execute_result"
    }
   ],
   "source": [
    "path=\"./csse_covid_19_data/csse_covid_19_time_series/time_series_covid19_confirmed_global.csv\"\n",
    "df=pd.read_csv(path)\n",
    "width=len(df.columns)-4 #Širina časovnega zaporedja\n",
    "height=len(df)\n",
    "df"
   ]
  },
  {
   "cell_type": "markdown",
   "metadata": {},
   "source": [
    "Iz teh podatkov naredimo seznam časovnih vrst. "
   ]
  },
  {
   "cell_type": "code",
   "execution_count": 8,
   "metadata": {},
   "outputs": [],
   "source": [
    "series=[]\n",
    "for row in range(height):\n",
    "    data=[]\n",
    "    for col in range(4,len(df.columns)):\n",
    "        data.append(df[df.columns[col]][row])\n",
    "    series.append(data)"
   ]
  },
  {
   "cell_type": "markdown",
   "metadata": {},
   "source": [
    "Vzamemo neko funkcijo za napako ki je odporna na b=0, ampak vseeno rajši aproksimira relativno napako, ker nas ta precej bolj zanima"
   ]
  },
  {
   "cell_type": "code",
   "execution_count": 9,
   "metadata": {},
   "outputs": [],
   "source": [
    "def err(x,a):\n",
    "    if abs(x-a)<=5 or a==0:#Za majhne primere je ok če je približno blizu\n",
    "        return 0\n",
    "    else:\n",
    "        return abs(x/a-1)"
   ]
  },
  {
   "cell_type": "markdown",
   "metadata": {},
   "source": [
    "Napišemo si funkcijo ki oceni nek (model?) algoritem."
   ]
  },
  {
   "cell_type": "code",
   "execution_count": 10,
   "metadata": {},
   "outputs": [],
   "source": [
    "class Data_segment:\n",
    "    def __init__(self,input_list):\n",
    "        self.input=input_list[:-1]\n",
    "        self.ans=input_list[-1]"
   ]
  },
  {
   "cell_type": "code",
   "execution_count": 11,
   "metadata": {},
   "outputs": [],
   "source": [
    "def input_generator(previous_data_length):\n",
    "    inputs=[]\n",
    "    for row in range(len(series)):\n",
    "        for c in range(len(series[row])-previous_data_length+1):\n",
    "            if series[row][c]!=0:\n",
    "                list=series[row][c:c+previous_data_length+1]\n",
    "                inputs.append(Data_segment(list))\n",
    "    return inputs"
   ]
  },
  {
   "cell_type": "code",
   "execution_count": 12,
   "metadata": {},
   "outputs": [],
   "source": [
    "def evaluate(prediction):\n",
    "    err_sum=0#vsota relativnih napak\n",
    "    tries=len(inputs)\n",
    "    previous_data_length=6#Koliko podatkov nazaj dobi prediction\n",
    "    for input in inputs:\n",
    "        response=prediction(input.input,previous_data_length)\n",
    "        correct=input.ans\n",
    "        error=err(response,correct)\n",
    "        #print(str(input.input)+\" \"+str(response)+\" \"+str(input.ans)+\" \"+str(error))\n",
    "        err_sum+=error\n",
    "    return err_sum/tries"
   ]
  },
  {
   "cell_type": "code",
   "execution_count": 13,
   "metadata": {},
   "outputs": [
    {
     "name": "stdout",
     "output_type": "stream",
     "text": [
      "[1, 1, 1, 1, 1, 1]\n",
      "1\n"
     ]
    }
   ],
   "source": [
    "inputs=input_generator(6)\n",
    "print(inputs[0].input)\n",
    "print(inputs[0].ans)"
   ]
  },
  {
   "cell_type": "markdown",
   "metadata": {},
   "source": [
    "Prvi poskus: število okužb jutri bo 0. To bi moralo dati slab rezultat"
   ]
  },
  {
   "cell_type": "code",
   "execution_count": 14,
   "metadata": {},
   "outputs": [
    {
     "name": "stdout",
     "output_type": "stream",
     "text": [
      "0.8478134955111497\n"
     ]
    }
   ],
   "source": [
    "def return_healthy_for_sure(ls,length):\n",
    "    return 0\n",
    "print(evaluate(return_healthy_for_sure))"
   ]
  },
  {
   "cell_type": "markdown",
   "metadata": {},
   "source": [
    "Verjetno je precej boljša ideja da vrnemo število okuženih včeraj. Vsaj spodnja meja se ujema..."
   ]
  },
  {
   "cell_type": "code",
   "execution_count": 15,
   "metadata": {},
   "outputs": [
    {
     "name": "stdout",
     "output_type": "stream",
     "text": [
      "0.0723347268229121\n"
     ]
    }
   ],
   "source": [
    "def return_yesterday(ls,length):\n",
    "    return ls[-1]\n",
    "print(evaluate(return_yesterday))"
   ]
  },
  {
   "cell_type": "markdown",
   "metadata": {},
   "source": [
    "Kot kaže je uporaba malo logike precej boljša. Kdo bi si mislil. Sedaj naredimo interpolacijo iz enega dneva nazaj"
   ]
  },
  {
   "cell_type": "code",
   "execution_count": 16,
   "metadata": {},
   "outputs": [
    {
     "name": "stdout",
     "output_type": "stream",
     "text": [
      "0.04961569610557525\n"
     ]
    }
   ],
   "source": [
    "def small_interpolation(ls,length):\n",
    "    return ls[-1]+(ls[-1]-ls[-2])\n",
    "print(evaluate(small_interpolation))"
   ]
  },
  {
   "cell_type": "markdown",
   "metadata": {},
   "source": [
    "Hm to je morda malo boljše, ampak je izboljšava precej majhna. Ni mi še jasno zakaj..."
   ]
  },
  {
   "cell_type": "markdown",
   "metadata": {},
   "source": [
    "Ok poskusimo sedaj interpolirati tako da vzamemo rast zadnjih dveh dni"
   ]
  },
  {
   "cell_type": "code",
   "execution_count": 17,
   "metadata": {},
   "outputs": [
    {
     "name": "stdout",
     "output_type": "stream",
     "text": [
      "0.04192167749771351\n"
     ]
    }
   ],
   "source": [
    "def medium_interpolation(ls,length):\n",
    "    return ls[-1]+(ls[-1]-ls[-3])/2\n",
    "print(evaluate(medium_interpolation))"
   ]
  },
  {
   "cell_type": "markdown",
   "metadata": {},
   "source": [
    "Hm sedaj je rezultat še boljši. Vzemimo 3 dni"
   ]
  },
  {
   "cell_type": "code",
   "execution_count": 18,
   "metadata": {},
   "outputs": [
    {
     "name": "stdout",
     "output_type": "stream",
     "text": [
      "0.04000096871466095\n"
     ]
    }
   ],
   "source": [
    "def longer_interpolation(ls,length):\n",
    "    return ls[-1]+(ls[-1]-ls[-4])/3\n",
    "print(evaluate(longer_interpolation))"
   ]
  },
  {
   "cell_type": "markdown",
   "metadata": {},
   "source": [
    "Spet boljše. Poskusimo 4 dni."
   ]
  },
  {
   "cell_type": "code",
   "execution_count": 19,
   "metadata": {},
   "outputs": [
    {
     "name": "stdout",
     "output_type": "stream",
     "text": [
      "0.04041569163747329\n"
     ]
    }
   ],
   "source": [
    "def long_interpolation(ls,length):\n",
    "    return ls[-1]+(ls[-1]-ls[-5])/4\n",
    "print(evaluate(long_interpolation))"
   ]
  },
  {
   "cell_type": "markdown",
   "metadata": {},
   "source": [
    "Sedaj dobimo malo slabši rezultat. Recimo da je interpolacija za 3 dni nekako kar v redu kar se tiče linearnih interpolacij. Ni očitno zakaj bi bila, ampak ne pričakujem da bo to najboljše kar bom lahko našel. Poskusimo sedaj z eksponentno funkcijo. Torej razmerje med predvčerajšnjim in včeraj bi moralo biti podobno razmerju med včeraj in danes. "
   ]
  },
  {
   "cell_type": "code",
   "execution_count": 20,
   "metadata": {},
   "outputs": [
    {
     "name": "stdout",
     "output_type": "stream",
     "text": [
      "0.09520543764042423\n"
     ]
    }
   ],
   "source": [
    "def ratio_interpolation(ls,length):\n",
    "    if ls[-3]==0:\n",
    "        return longer_interpolation(ls,length)\n",
    "    return ls[-1]*(ls[-1]/ls[-2])\n",
    "print(evaluate(ratio_interpolation))"
   ]
  },
  {
   "cell_type": "markdown",
   "metadata": {},
   "source": [
    "Izgleda slabše?! Oglejmo si kako naši algoritmi delujejo s pomočjo grafa"
   ]
  },
  {
   "cell_type": "code",
   "execution_count": 21,
   "metadata": {},
   "outputs": [
    {
     "name": "stdout",
     "output_type": "stream",
     "text": [
      "[0, 0, 0, 0, 0, 0, 0, 0, 0, 0, 0, 0, 0, 0, 0, 0, 0, 0, 0, 0, 0, 0, 0, 0, 0, 0, 0, 0, 0, 0, 0, 0, 0, 0, 0, 0, 1, 1, 6, 10, 18, 24, 38, 82, 128, 188, 265, 321, 382, 503, 503, 804, 959, 1135, 1413, 1705, 2051, 2460, 2994, 3631, 4204, 4749, 5560, 6412, 7431, 8603, 9762, 10866, 11750]\n"
     ]
    }
   ],
   "source": [
    "row=series[random.randrange(len(series))]\n",
    "print(row)"
   ]
  },
  {
   "cell_type": "code",
   "execution_count": 23,
   "metadata": {},
   "outputs": [
    {
     "data": {
      "text/plain": [
       "<matplotlib.legend.Legend at 0x25624741b48>"
      ]
     },
     "execution_count": 23,
     "metadata": {},
     "output_type": "execute_result"
    },
    {
     "data": {
      "image/png": "[encoded data removed]",
      "text/plain": [
       "<Figure size 1440x1080 with 2 Axes>"
      ]
     },
     "metadata": {
      "needs_background": "light"
     },
     "output_type": "display_data"
    }
   ],
   "source": [
    "x=np.arange(0, len(row), 1);\n",
    "y=[]\n",
    "lin_p=[]\n",
    "exp_p=[]\n",
    "for i in range(len(row)):\n",
    "    y.append(row[i])\n",
    "    \n",
    "for i in range(10):\n",
    "    lin_p.append(row[i])\n",
    "for i in range(10,len(row)):\n",
    "    lin_p.append(longer_interpolation(y[i-10:i],10))\n",
    "    \n",
    "for i in range(10):\n",
    "    exp_p.append(row[i])\n",
    "for i in range(10,len(row)):\n",
    "    exp_p.append(ratio_interpolation(y[i-10:i],10))\n",
    "\n",
    "errors_lin=[err(lin_p[i],y[i]) for i in range(len(row))]\n",
    "errors_exp=[err(exp_p[i],y[i]) for i in range(len(row))]\n",
    "plt.subplot(2, 1, 1)\n",
    "plt.plot(x, y ,'go', label=\"Ground\")\n",
    "plt.plot(x, lin_p, label=\"Linear fit\")\n",
    "plt.plot(x, exp_p, label=\"Exponential fit\")\n",
    "plt.legend()\n",
    "\n",
    "plt.subplot(2, 1, 2)\n",
    "plt.plot(x, errors_lin, label=\"Linear error\")\n",
    "plt.plot(x, errors_exp, label=\"Exponential error\")\n",
    "plt.legend()"
   ]
  },
  {
   "cell_type": "markdown",
   "metadata": {},
   "source": [
    "Hm ok izgleda kot da preveč skačemo okoli, kar nam seveda poveča relativno napako. Poglejmo si razmerja zadnjih nekaj dni, in za faktor množenja uporabimo njihovo linearno kombinacijo, kjer so \"uteži\" določene tako, da se prilegajo podatkom"
   ]
  },
  {
   "cell_type": "code",
   "execution_count": 25,
   "metadata": {},
   "outputs": [
    {
     "name": "stdout",
     "output_type": "stream",
     "text": [
      "0\n",
      "0.8357280224630724\n",
      "[0.01366396671075172, 0, 0, 0]\n",
      "0.8205603324065562\n",
      "[0.01366396671075172, 0.0, 0.016805679410708246, 0]\n",
      "0.8027108465903396\n",
      "[0.01366396671075172, 0.020043585597297277, 0.016805679410708246, 0.0]\n",
      "0.7982302358630601\n",
      "[0.01366396671075172, 0.020043585597297277, 0.016805679410708246, 0.004849234676631476]\n",
      "0.7933222067113381\n",
      "[0.01366396671075172, 0.025422865571960353, 0.016805679410708246, 0.004849234676631476]\n",
      "0.78505144034575\n",
      "[0.01366396671075172, 0.025422865571960353, 0.025311825785057154, 0.004849234676631476]\n",
      "0.7693770399540207\n",
      "[0.030604060393833322, 0.025422865571960353, 0.025311825785057154, 0.004849234676631476]\n",
      "0.7483956983930203\n",
      "[0.054066222290509634, 0.025422865571960353, 0.025311825785057154, 0.004849234676631476]\n",
      "0.7404490607004384\n",
      "[0.054066222290509634, 0.025422865571960353, 0.025311825785057154, 0.012822910546942724]\n",
      "0.7377525119673534\n",
      "[0.05676090849954528, 0.025422865571960353, 0.025311825785057154, 0.012822910546942724]\n",
      "0.719948471000562\n",
      "[0.07502711801820602, 0.025422865571960353, 0.025311825785057154, 0.012822910546942724]\n",
      "0.7195186541019173\n",
      "[0.07552168914154574, 0.025422865571960353, 0.025311825785057154, 0.012822910546942724]\n",
      "0.719077487612762\n",
      "[0.07552168914154574, 0.025422865571960353, 0.025311825785057154, 0.01330453606277885]\n",
      "0.7014777344172556\n",
      "[0.07552168914154574, 0.025422865571960353, 0.0425131814428038, 0.01330453606277885]\n",
      "0.6805441878517128\n",
      "[0.07552168914154574, 0.04631681948081359, 0.0425131814428038, 0.01330453606277885]\n",
      "0.6649142744379458\n",
      "[0.07552168914154574, 0.04631681948081359, 0.0425131814428038, 0.028788270854387434]\n",
      "0.6547492096791903\n",
      "[0.08654986399649042, 0.04631681948081359, 0.0425131814428038, 0.028788270854387434]\n",
      "0.6406847906513268\n",
      "[0.08654986399649042, 0.04631681948081359, 0.05728588006531078, 0.028788270854387434]\n",
      "0.6254456252166574\n",
      "[0.08654986399649042, 0.061104317362189325, 0.05728588006531078, 0.028788270854387434]\n",
      "0.6238436496948531\n",
      "[0.08654986399649042, 0.06296831893547256, 0.05728588006531078, 0.028788270854387434]\n",
      "0.6225464230578492\n",
      "[0.08654986399649042, 0.06296831893547256, 0.05867066730635472, 0.028788270854387434]\n",
      "0.6007227741355818\n",
      "[0.08654986399649042, 0.0861008277585446, 0.05867066730635472, 0.028788270854387434]\n",
      "0.5836381017483057\n",
      "[0.08654986399649042, 0.1036478964808352, 0.05867066730635472, 0.028788270854387434]\n",
      "0.5714048649052775\n",
      "[0.099201785753376, 0.1036478964808352, 0.05867066730635472, 0.028788270854387434]\n",
      "0.5657455237141074\n",
      "[0.099201785753376, 0.10989408614937274, 0.05867066730635472, 0.028788270854387434]\n",
      "0.5429582725630738\n",
      "[0.099201785753376, 0.1342076885284087, 0.05867066730635472, 0.028788270854387434]\n",
      "0.5231517026869842\n",
      "[0.099201785753376, 0.1342076885284087, 0.05867066730635472, 0.04884275359852249]\n",
      "0.5196244226670286\n",
      "[0.099201785753376, 0.1342076885284087, 0.06262400061377907, 0.04884275359852249]\n",
      "0.510926704364661\n",
      "[0.099201785753376, 0.1342076885284087, 0.06262400061377907, 0.058074742640973745]\n",
      "0.49650557581850807\n",
      "[0.099201785753376, 0.1490194185013993, 0.06262400061377907, 0.058074742640973745]\n",
      "0.4743836415726465\n",
      "[0.099201785753376, 0.1490194185013993, 0.08731761100602048, 0.058074742640973745]\n",
      "0.45894099970704505\n",
      "[0.099201785753376, 0.1665455045439296, 0.08731761100602048, 0.058074742640973745]\n",
      "0.4395405142373363\n",
      "[0.099201785753376, 0.18857341150784163, 0.08731761100602048, 0.058074742640973745]\n",
      "0.42402233076156687\n",
      "[0.099201785753376, 0.18857341150784163, 0.10384933729710746, 0.058074742640973745]\n",
      "0.4064252773322938\n",
      "[0.099201785753376, 0.18857341150784163, 0.10384933729710746, 0.07568046155546396]\n",
      "0.39954933581300073\n",
      "[0.099201785753376, 0.19669278372023424, 0.10384933729710746, 0.07568046155546396]\n",
      "0.3752477542310868\n",
      "[0.099201785753376, 0.22128294652992872, 0.10384933729710746, 0.07568046155546396]\n",
      "0.367053410575745\n",
      "[0.099201785753376, 0.23099292121535106, 0.10384933729710746, 0.07568046155546396]\n",
      "0.35216263222954325\n",
      "[0.099201785753376, 0.23099292121535106, 0.12089035509263385, 0.07568046155546396]\n",
      "0.3318757437028543\n",
      "[0.12329186696205419, 0.23099292121535106, 0.12089035509263385, 0.07568046155546396]\n",
      "0.32732972596400994\n",
      "[0.12329186696205419, 0.23099292121535106, 0.12619463903163244, 0.07568046155546396]\n",
      "0.3120587583000945\n",
      "[0.12329186696205419, 0.23099292121535106, 0.12619463903163244, 0.092814044430892]\n",
      "0.31145341281788574\n",
      "[0.12329186696205419, 0.23169787300322464, 0.12619463903163244, 0.092814044430892]\n",
      "0.29280514020448734\n",
      "[0.12329186696205419, 0.2546554007616938, 0.12619463903163244, 0.092814044430892]\n",
      "0.2925888120651044\n",
      "[0.12362540095729341, 0.2546554007616938, 0.12619463903163244, 0.092814044430892]\n",
      "0.27864659572333844\n",
      "[0.12362540095729341, 0.2546554007616938, 0.12619463903163244, 0.10935758708154]\n",
      "0.2635464343626533\n",
      "[0.14168749594363675, 0.2546554007616938, 0.12619463903163244, 0.10935758708154]\n",
      "0.24515146168896432\n",
      "[0.14168749594363675, 0.2546554007616938, 0.14937706625485075, 0.10935758708154]\n",
      "0.22723964213436684\n",
      "[0.14168749594363675, 0.27803729446473635, 0.14937706625485075, 0.10935758708154]\n",
      "0.20989187679045268\n",
      "[0.16438640646044722, 0.27803729446473635, 0.14937706625485075, 0.10935758708154]\n",
      "0.20602936322050183\n",
      "[0.16438640646044722, 0.27803729446473635, 0.14937706625485075, 0.11457576883395879]\n",
      "0.20115782759613043\n",
      "[0.16438640646044722, 0.27803729446473635, 0.14937706625485075, 0.12144514924369056]\n",
      "100\n",
      "0.20027106570828299\n",
      "[0.16438640646044722, 0.27803729446473635, 0.15068064852036428, 0.12144514924369056]\n",
      "0.18269172364316785\n",
      "[0.16438640646044722, 0.27803729446473635, 0.1727829531307695, 0.12144514924369056]\n",
      "0.16641569456571173\n",
      "[0.16438640646044722, 0.27803729446473635, 0.1965863824103628, 0.12144514924369056]\n",
      "0.16347369909065018\n",
      "[0.16895349130811418, 0.27803729446473635, 0.1965863824103628, 0.12144514924369056]\n",
      "0.15897176141320285\n",
      "[0.17606198112057672, 0.27803729446473635, 0.1965863824103628, 0.12144514924369056]\n",
      "0.15234173775824317\n",
      "[0.17606198112057672, 0.27803729446473635, 0.20781259054490073, 0.12144514924369056]\n",
      "0.1450037107585311\n",
      "[0.17606198112057672, 0.27803729446473635, 0.20781259054490073, 0.13395587365607126]\n",
      "0.13515765850032993\n",
      "[0.17606198112057672, 0.29514417109342084, 0.20781259054490073, 0.13395587365607126]\n",
      "0.12827021810496247\n",
      "[0.17606198112057672, 0.29514417109342084, 0.20781259054490073, 0.1465905626501891]\n",
      "0.11609614794159855\n",
      "[0.1991713318750072, 0.29514417109342084, 0.20781259054490073, 0.1465905626501891]\n",
      "0.10388113868186026\n",
      "[0.22405923726160742, 0.29514417109342084, 0.20781259054490073, 0.1465905626501891]\n",
      "0.09707231454771072\n",
      "[0.22405923726160742, 0.29514417109342084, 0.22303009292892007, 0.1465905626501891]\n",
      "0.09007466211656878\n",
      "[0.22405923726160742, 0.29514417109342084, 0.22303009292892007, 0.16449438080203244]\n",
      "0.08977861959504467\n",
      "[0.22405923726160742, 0.29514417109342084, 0.2242934523310719, 0.16449438080203244]\n",
      "0.08836829171302642\n",
      "[0.22405923726160742, 0.29887743149912244, 0.2242934523310719, 0.16449438080203244]\n",
      "0.08754458654826053\n",
      "[0.22405923726160742, 0.2988774314991225, 0.22681741863288807, 0.16449438080203244]\n",
      "0.08144637055358452\n",
      "[0.22405923726160742, 0.2988774314991225, 0.2460667352531395, 0.16449438080203244]\n",
      "0.07857701113135655\n",
      "[0.22405923726160742, 0.2988774314991225, 0.2460667352531395, 0.1755548706329064]\n",
      "0.07819973303318026\n",
      "[0.22405923726160742, 0.2988774314991225, 0.2460667352531395, 0.17763945957887284]\n",
      "0.07650003891553829\n",
      "[0.22405923726160742, 0.2988774314991225, 0.25785972223447057, 0.17763945957887284]\n",
      "0.07503906765991947\n",
      "[0.22405923726160742, 0.2988774314991225, 0.25785972223447057, 0.19098150923148158]\n",
      "0.07503779354776653\n",
      "[0.22405923726160742, 0.2988774314991225, 0.2577147423964312, 0.19098150923148158]\n",
      "0.07499000455099832\n",
      "[0.22405923726160742, 0.2988774314991225, 0.25316054844955926, 0.19098150923148158]\n",
      "0.07493303430565489\n",
      "[0.24080464559642464, 0.2988774314991225, 0.25316054844955926, 0.19098150923148158]\n",
      "0.07439217844813886\n",
      "[0.24080464559642464, 0.2865245076482098, 0.25316054844955926, 0.19098150923148158]\n",
      "200\n",
      "0.07436389088381923\n",
      "[0.2419031388777347, 0.2865245076482098, 0.25316054844955926, 0.19098150923148155]\n",
      "0.07435820182404175\n",
      "[0.2419031388777347, 0.2865245076482098, 0.25316054844955926, 0.1904898960589965]\n",
      "300\n",
      "400\n",
      "0.0743323947693529\n",
      "[0.24293457696331383, 0.2865245076482098, 0.25316054844955926, 0.1904898960589965]\n",
      "0.07428547072597451\n",
      "[0.2429345769633138, 0.285157335600167, 0.25316054844955926, 0.1904898960589965]\n",
      "500\n",
      "600\n",
      "700\n",
      "800\n",
      "900\n"
     ]
    }
   ],
   "source": [
    "def generate_fit_from_weights(w):\n",
    "    def div(a,b):\n",
    "        if b!=0:\n",
    "            return a/b\n",
    "        else:\n",
    "            return 0\n",
    "    def ratio_weight_interpolation(ls,length):\n",
    "        weightedTerms=[w[i]*(div(ls[-i-1],ls[-i-2])) for i in range(len(w))]\n",
    "        product=sum(weightedTerms)\n",
    "        return ls[-1]*(product)\n",
    "    \n",
    "    return ratio_weight_interpolation\n",
    "\n",
    "def generate_good_ratio_interpolation():\n",
    "    weights=[0,0,0,0]#Recimo [0,0,0,0] da prvo funkcijo ki vedno vrne 0, [1,0,0,0] pa da prejšnjo funkcijo ki gleda razmerja\n",
    "    best=evaluate(generate_fit_from_weights(weights))\n",
    "    w=0.05\n",
    "    for i in range(1000):\n",
    "        if(i%100==0):\n",
    "            print(i)\n",
    "        p=random.randrange(len(weights))\n",
    "        change=w*(random.random()-0.5)\n",
    "        weights[p]+=change\n",
    "        curr=evaluate(generate_fit_from_weights(weights))\n",
    "        #print(str(weights)+\" \"+str(curr))\n",
    "        if(curr<best):\n",
    "            best=curr\n",
    "            print(curr)\n",
    "            print(weights)\n",
    "        else:\n",
    "            weights[p]-=change\n",
    "    return generate_fit_from_weights(weights)\n",
    "    \n",
    "good_ratio_interpolation=generate_good_ratio_interpolation()"
   ]
  },
  {
   "cell_type": "markdown",
   "metadata": {},
   "source": [
    "Hm tudi z dosti dela so rezultati še vedno slabši od enostavne linearne interpolacije ki interpolira iz treh dni nazaj. Posksuimo rajši izboljšati linearno interpolacijo. To naredimo tako da naredimo posplošeno linearno interpolacijo, ki jo poskusimo izboljšati z \"hill climbing\" algoritmom. "
   ]
  },
  {
   "cell_type": "code",
   "execution_count": 27,
   "metadata": {},
   "outputs": [
    {
     "name": "stdout",
     "output_type": "stream",
     "text": [
      "0.0723347268229121\n",
      "0\n",
      "0.06556886606371287\n",
      "[1.0800405563572621, 0.0, 0, 0.0]\n",
      "0.0625115484642174\n",
      "[1.0800405563572621, 0.0, -0.02408518852812538, 0.0]\n",
      "0.06229325236119769\n",
      "[1.0800405563572621, -0.008164295555922641, -0.02408518852812538, 0.0]\n",
      "0.06205825561837815\n",
      "[1.0800405563572621, -0.008164295555922641, -0.033825454477911236, 0.0]\n",
      "0.06170731029688485\n",
      "[1.0876172526434935, -0.008164295555922641, -0.033825454477911236, 0.0]\n",
      "0.06139809724112427\n",
      "[1.1042473230393244, -0.008164295555922641, -0.033825454477911236, 0.0]\n",
      "0.058552408780583355\n",
      "[1.1042473230393244, -0.008164295555922641, -0.033825454477911236, -0.0333448599565162]\n",
      "0.05805957494974949\n",
      "[1.1228871160307916, -0.008164295555922643, -0.033825454477911236, -0.03334485995651619]\n",
      "0.0562804113198053\n",
      "[1.1228871160307916, -0.008164295555922643, -0.033825454477911236, -0.06199374678563976]\n",
      "0.05603436287505389\n",
      "[1.1599623848455582, -0.008164295555922643, -0.033825454477911236, -0.06199374678563976]\n",
      "0.054499772528809096\n",
      "[1.1599623848455582, -0.04105001438771701, -0.033825454477911236, -0.06199374678563976]\n",
      "100\n",
      "0.05427387962439725\n",
      "[1.177911724120217, -0.04105001438771701, -0.03382545447791123, -0.061993746785639736]\n",
      "0.05326533110004446\n",
      "[1.177911724120217, -0.04105001438771701, -0.0527596955006008, -0.06199374678563974]\n",
      "0.053252786301995855\n",
      "[1.177911724120217, -0.04105001438771701, -0.052759695500600806, -0.06255311273760922]\n",
      "0.052955589564646174\n",
      "[1.177911724120217, -0.03477010242058767, -0.0527596955006008, -0.06255311273760922]\n",
      "0.052901298315791635\n",
      "[1.1862010469141775, -0.0347701024205877, -0.052759695500600806, -0.06255311273760916]\n",
      "0.05281471088696833\n",
      "[1.1828918453104735, -0.0347701024205877, -0.052759695500600806, -0.06255311273760916]\n",
      "200\n",
      "0.052675200030020845\n",
      "[1.1828918453104735, -0.0347701024205877, -0.055824627322366184, -0.06255311273760916]\n",
      "0.05233476474399191\n",
      "[1.1828918453104735, -0.0347701024205877, -0.055824627322366184, -0.0745876262381311]\n",
      "0.052301730633055134\n",
      "[1.1828918453104735, -0.0347701024205877, -0.05387732228966193, -0.07458762623813109]\n",
      "0.05175801571177945\n",
      "[1.1900645332189566, -0.03477010242058771, -0.05387732228966193, -0.07458762623813107]\n",
      "0.051667082195258104\n",
      "[1.1900645332189566, -0.03477010242058771, -0.05387732228966193, -0.07912053336317466]\n",
      "0.05165925070590008\n",
      "[1.1900645332189566, -0.034770102420587715, -0.05387732228966194, -0.07977252468968658]\n",
      "0.051224395923538044\n",
      "[1.2043867277666445, -0.034770102420587715, -0.05387732228966194, -0.0797725246896866]\n",
      "0.05011888439156912\n",
      "[1.2043867277666447, -0.0347701024205877, -0.05387732228966194, -0.10874320453634966]\n",
      "0.04984564697333516\n",
      "[1.2043867277666447, -0.0347701024205877, -0.03782623855053728, -0.10874320453634966]\n",
      "0.049550936023831565\n",
      "[1.2043867277666447, -0.0347701024205877, -0.03782623855053728, -0.11858270350559069]\n",
      "300\n",
      "0.04948793228891528\n",
      "[1.2043867277666447, -0.0347701024205877, -0.035568243214662384, -0.11858270350559069]\n",
      "0.04948322164990872\n",
      "[1.2045660286812698, -0.034770102420587715, -0.03556824321466241, -0.11858270350559065]\n",
      "0.04943977401780508\n",
      "[1.2056966407477767, -0.034770102420587715, -0.03556824321466241, -0.11858270350559065]\n",
      "400\n",
      "0.04938507653909385\n",
      "[1.206876673473203, -0.034770102420587715, -0.03556824321466241, -0.11858270350559065]\n",
      "0.04922256117783013\n",
      "[1.21892368448867, -0.034770102420587715, -0.03556824321466241, -0.11858270350559066]\n",
      "0.04860854582348178\n",
      "[1.21892368448867, -0.034770102420587715, -0.04926541479061503, -0.11858270350559066]\n",
      "0.048267208451382174\n",
      "[1.230292428575964, -0.03477010242058771, -0.049265414790615025, -0.11858270350559066]\n",
      "0.04801171689474514\n",
      "[1.230292428575964, -0.0347701024205877, -0.058399143971015706, -0.11858270350559066]\n",
      "500\n",
      "0.047881877490972356\n",
      "[1.230292428575964, -0.0347701024205877, -0.058399143971015706, -0.13002889941274848]\n",
      "0.04787338424339682\n",
      "[1.230292428575964, -0.0347701024205877, -0.05839914397101573, -0.12996936266103398]\n",
      "0.04756591291295052\n",
      "[1.233876436185376, -0.0347701024205877, -0.05839914397101572, -0.12996936266103398]\n",
      "0.047312627872688855\n",
      "[1.2338764361853758, -0.02552826934542676, -0.05839914397101573, -0.12996936266103398]\n",
      "600\n",
      "0.04728526220310967\n",
      "[1.2338764361853758, -0.025528269345426763, -0.06685340722823012, -0.12996936266103398]\n",
      "0.046788897625839085\n",
      "[1.2417683053930855, -0.025528269345426763, -0.06685340722823012, -0.12996936266103398]\n",
      "0.04669692360537141\n",
      "[1.2417683053930855, -0.025528269345426763, -0.06685340722823015, -0.1427962367940879]\n",
      "0.04658458310548794\n",
      "[1.2417683053930855, -0.025528269345426763, -0.06217052569361932, -0.1427962367940879]\n",
      "0.0463849729503728\n",
      "[1.2417683053930855, -0.025528269345426763, -0.05813465145071034, -0.1427962367940879]\n",
      "700\n",
      "0.04634523808140413\n",
      "[1.2467202313402557, -0.025528269345426763, -0.05813465145071034, -0.14279623679408787]\n",
      "800\n",
      "0.04611692066192028\n",
      "[1.2467202313402557, -0.025528269345426763, -0.06338578268742458, -0.14279623679408787]\n",
      "900\n",
      "0.046107982591671946\n",
      "[1.2467202313402557, -0.02369695731963379, -0.06338578268742458, -0.14279623679408787]\n",
      "0.04593368521077016\n",
      "[1.2467202313402557, -0.02369695731963379, -0.06338578268742459, -0.14975824939019344]\n",
      "0.04593368521077016\n"
     ]
    }
   ],
   "source": [
    "def generate_fit_from_weights_linear(w):\n",
    "    def linear_weight_interpolation(ls,length):\n",
    "        weightedTerms=[w[i]*ls[-1-i] for i in range(len(w))]\n",
    "        return sum(weightedTerms)\n",
    "    \n",
    "    return linear_weight_interpolation\n",
    "\n",
    "def generate_good_linear_interpolation():\n",
    "    weights=[1,0,0,0]#Recimo [0,0,0,0] da prvo funkcijo ki vedno vrne 0, [1,0,0,0] pa da funckijo ki gleda včeraj\n",
    "    best=evaluate(generate_fit_from_weights_linear(weights))\n",
    "    print(best)\n",
    "    w=0.2\n",
    "    for i in range(1000):\n",
    "        if(i%100==0):\n",
    "            print(i)\n",
    "        p=random.randrange(len(weights))\n",
    "        change=w*(random.random()-0.5)\n",
    "        weights[p]+=change\n",
    "        curr=evaluate(generate_fit_from_weights_linear(weights))\n",
    "        #print(str(weights)+\" \"+str(curr))\n",
    "        if(curr<best):\n",
    "            best=curr\n",
    "            print(curr)\n",
    "            print(weights)\n",
    "        else:\n",
    "            weights[p]-=change\n",
    "    print(best)\n",
    "    return generate_fit_from_weights_linear(weights)\n",
    "    \n",
    "good_linear_interpolation=generate_good_linear_interpolation()"
   ]
  },
  {
   "cell_type": "code",
   "execution_count": null,
   "metadata": {},
   "outputs": [],
   "source": []
  }
 ],
 "metadata": {
  "kernelspec": {
   "display_name": "Python 3",
   "language": "python",
   "name": "python3"
  },
  "language_info": {
   "codemirror_mode": {
    "name": "ipython",
    "version": 3
   },
   "file_extension": ".py",
   "mimetype": "text/x-python",
   "name": "python",
   "nbconvert_exporter": "python",
   "pygments_lexer": "ipython3",
   "version": "3.7.4"
  }
 },
 "nbformat": 4,
 "nbformat_minor": 4
}
