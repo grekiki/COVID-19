{
 "cells": [
  {
   "cell_type": "code",
   "execution_count": 2,
   "metadata": {},
   "outputs": [],
   "source": [
    "import pandas as pd\n",
    "import os\n",
    "import random\n",
    "import numpy as np\n",
    "import matplotlib.pyplot as plt\n",
    "%matplotlib inline\n",
    "plt.rcParams[\"figure.figsize\"] = [20, 15]"
   ]
  },
  {
   "cell_type": "markdown",
   "metadata": {},
   "source": [
    "Poberemo podatke o številu okužb po dnevih"
   ]
  },
  {
   "cell_type": "code",
   "execution_count": 3,
   "metadata": {},
   "outputs": [
    {
     "data": {
      "text/html": [
       "<div>\n",
       "<style scoped>\n",
       "    .dataframe tbody tr th:only-of-type {\n",
       "        vertical-align: middle;\n",
       "    }\n",
       "\n",
       "    .dataframe tbody tr th {\n",
       "        vertical-align: top;\n",
       "    }\n",
       "\n",
       "    .dataframe thead th {\n",
       "        text-align: right;\n",
       "    }\n",
       "</style>\n",
       "<table border=\"1\" class=\"dataframe\">\n",
       "  <thead>\n",
       "    <tr style=\"text-align: right;\">\n",
       "      <th></th>\n",
       "      <th>Province/State</th>\n",
       "      <th>Country/Region</th>\n",
       "      <th>Lat</th>\n",
       "      <th>Long</th>\n",
       "      <th>1/22/20</th>\n",
       "      <th>1/23/20</th>\n",
       "      <th>1/24/20</th>\n",
       "      <th>1/25/20</th>\n",
       "      <th>1/26/20</th>\n",
       "      <th>1/27/20</th>\n",
       "      <th>...</th>\n",
       "      <th>3/7/20</th>\n",
       "      <th>3/8/20</th>\n",
       "      <th>3/9/20</th>\n",
       "      <th>3/10/20</th>\n",
       "      <th>3/11/20</th>\n",
       "      <th>3/12/20</th>\n",
       "      <th>3/13/20</th>\n",
       "      <th>3/14/20</th>\n",
       "      <th>3/15/20</th>\n",
       "      <th>3/16/20</th>\n",
       "    </tr>\n",
       "  </thead>\n",
       "  <tbody>\n",
       "    <tr>\n",
       "      <th>0</th>\n",
       "      <td>NaN</td>\n",
       "      <td>Thailand</td>\n",
       "      <td>15.0000</td>\n",
       "      <td>101.0000</td>\n",
       "      <td>2</td>\n",
       "      <td>3</td>\n",
       "      <td>5</td>\n",
       "      <td>7</td>\n",
       "      <td>8</td>\n",
       "      <td>8</td>\n",
       "      <td>...</td>\n",
       "      <td>50</td>\n",
       "      <td>50</td>\n",
       "      <td>50</td>\n",
       "      <td>53</td>\n",
       "      <td>59</td>\n",
       "      <td>70</td>\n",
       "      <td>75</td>\n",
       "      <td>82</td>\n",
       "      <td>114</td>\n",
       "      <td>147</td>\n",
       "    </tr>\n",
       "    <tr>\n",
       "      <th>1</th>\n",
       "      <td>NaN</td>\n",
       "      <td>Japan</td>\n",
       "      <td>36.0000</td>\n",
       "      <td>138.0000</td>\n",
       "      <td>2</td>\n",
       "      <td>1</td>\n",
       "      <td>2</td>\n",
       "      <td>2</td>\n",
       "      <td>4</td>\n",
       "      <td>4</td>\n",
       "      <td>...</td>\n",
       "      <td>461</td>\n",
       "      <td>502</td>\n",
       "      <td>511</td>\n",
       "      <td>581</td>\n",
       "      <td>639</td>\n",
       "      <td>639</td>\n",
       "      <td>701</td>\n",
       "      <td>773</td>\n",
       "      <td>839</td>\n",
       "      <td>825</td>\n",
       "    </tr>\n",
       "    <tr>\n",
       "      <th>2</th>\n",
       "      <td>NaN</td>\n",
       "      <td>Singapore</td>\n",
       "      <td>1.2833</td>\n",
       "      <td>103.8333</td>\n",
       "      <td>0</td>\n",
       "      <td>1</td>\n",
       "      <td>3</td>\n",
       "      <td>3</td>\n",
       "      <td>4</td>\n",
       "      <td>5</td>\n",
       "      <td>...</td>\n",
       "      <td>138</td>\n",
       "      <td>150</td>\n",
       "      <td>150</td>\n",
       "      <td>160</td>\n",
       "      <td>178</td>\n",
       "      <td>178</td>\n",
       "      <td>200</td>\n",
       "      <td>212</td>\n",
       "      <td>226</td>\n",
       "      <td>243</td>\n",
       "    </tr>\n",
       "    <tr>\n",
       "      <th>3</th>\n",
       "      <td>NaN</td>\n",
       "      <td>Nepal</td>\n",
       "      <td>28.1667</td>\n",
       "      <td>84.2500</td>\n",
       "      <td>0</td>\n",
       "      <td>0</td>\n",
       "      <td>0</td>\n",
       "      <td>1</td>\n",
       "      <td>1</td>\n",
       "      <td>1</td>\n",
       "      <td>...</td>\n",
       "      <td>1</td>\n",
       "      <td>1</td>\n",
       "      <td>1</td>\n",
       "      <td>1</td>\n",
       "      <td>1</td>\n",
       "      <td>1</td>\n",
       "      <td>1</td>\n",
       "      <td>1</td>\n",
       "      <td>1</td>\n",
       "      <td>1</td>\n",
       "    </tr>\n",
       "    <tr>\n",
       "      <th>4</th>\n",
       "      <td>NaN</td>\n",
       "      <td>Malaysia</td>\n",
       "      <td>2.5000</td>\n",
       "      <td>112.5000</td>\n",
       "      <td>0</td>\n",
       "      <td>0</td>\n",
       "      <td>0</td>\n",
       "      <td>3</td>\n",
       "      <td>4</td>\n",
       "      <td>4</td>\n",
       "      <td>...</td>\n",
       "      <td>93</td>\n",
       "      <td>99</td>\n",
       "      <td>117</td>\n",
       "      <td>129</td>\n",
       "      <td>149</td>\n",
       "      <td>149</td>\n",
       "      <td>197</td>\n",
       "      <td>238</td>\n",
       "      <td>428</td>\n",
       "      <td>566</td>\n",
       "    </tr>\n",
       "    <tr>\n",
       "      <th>...</th>\n",
       "      <td>...</td>\n",
       "      <td>...</td>\n",
       "      <td>...</td>\n",
       "      <td>...</td>\n",
       "      <td>...</td>\n",
       "      <td>...</td>\n",
       "      <td>...</td>\n",
       "      <td>...</td>\n",
       "      <td>...</td>\n",
       "      <td>...</td>\n",
       "      <td>...</td>\n",
       "      <td>...</td>\n",
       "      <td>...</td>\n",
       "      <td>...</td>\n",
       "      <td>...</td>\n",
       "      <td>...</td>\n",
       "      <td>...</td>\n",
       "      <td>...</td>\n",
       "      <td>...</td>\n",
       "      <td>...</td>\n",
       "      <td>...</td>\n",
       "    </tr>\n",
       "    <tr>\n",
       "      <th>458</th>\n",
       "      <td>NaN</td>\n",
       "      <td>Somalia</td>\n",
       "      <td>5.1521</td>\n",
       "      <td>46.1996</td>\n",
       "      <td>0</td>\n",
       "      <td>0</td>\n",
       "      <td>0</td>\n",
       "      <td>0</td>\n",
       "      <td>0</td>\n",
       "      <td>0</td>\n",
       "      <td>...</td>\n",
       "      <td>0</td>\n",
       "      <td>0</td>\n",
       "      <td>0</td>\n",
       "      <td>0</td>\n",
       "      <td>0</td>\n",
       "      <td>0</td>\n",
       "      <td>0</td>\n",
       "      <td>0</td>\n",
       "      <td>0</td>\n",
       "      <td>1</td>\n",
       "    </tr>\n",
       "    <tr>\n",
       "      <th>459</th>\n",
       "      <td>NaN</td>\n",
       "      <td>Tanzania</td>\n",
       "      <td>-6.3690</td>\n",
       "      <td>34.8888</td>\n",
       "      <td>0</td>\n",
       "      <td>0</td>\n",
       "      <td>0</td>\n",
       "      <td>0</td>\n",
       "      <td>0</td>\n",
       "      <td>0</td>\n",
       "      <td>...</td>\n",
       "      <td>0</td>\n",
       "      <td>0</td>\n",
       "      <td>0</td>\n",
       "      <td>0</td>\n",
       "      <td>0</td>\n",
       "      <td>0</td>\n",
       "      <td>0</td>\n",
       "      <td>0</td>\n",
       "      <td>0</td>\n",
       "      <td>1</td>\n",
       "    </tr>\n",
       "    <tr>\n",
       "      <th>460</th>\n",
       "      <td>NaN</td>\n",
       "      <td>The Bahamas</td>\n",
       "      <td>24.2500</td>\n",
       "      <td>-76.0000</td>\n",
       "      <td>0</td>\n",
       "      <td>0</td>\n",
       "      <td>0</td>\n",
       "      <td>0</td>\n",
       "      <td>0</td>\n",
       "      <td>0</td>\n",
       "      <td>...</td>\n",
       "      <td>0</td>\n",
       "      <td>0</td>\n",
       "      <td>0</td>\n",
       "      <td>0</td>\n",
       "      <td>0</td>\n",
       "      <td>0</td>\n",
       "      <td>0</td>\n",
       "      <td>0</td>\n",
       "      <td>0</td>\n",
       "      <td>1</td>\n",
       "    </tr>\n",
       "    <tr>\n",
       "      <th>461</th>\n",
       "      <td>Virgin Islands</td>\n",
       "      <td>US</td>\n",
       "      <td>18.3358</td>\n",
       "      <td>-64.8963</td>\n",
       "      <td>0</td>\n",
       "      <td>0</td>\n",
       "      <td>0</td>\n",
       "      <td>0</td>\n",
       "      <td>0</td>\n",
       "      <td>0</td>\n",
       "      <td>...</td>\n",
       "      <td>0</td>\n",
       "      <td>0</td>\n",
       "      <td>0</td>\n",
       "      <td>0</td>\n",
       "      <td>0</td>\n",
       "      <td>0</td>\n",
       "      <td>0</td>\n",
       "      <td>1</td>\n",
       "      <td>1</td>\n",
       "      <td>1</td>\n",
       "    </tr>\n",
       "    <tr>\n",
       "      <th>462</th>\n",
       "      <td>Cayman Islands</td>\n",
       "      <td>United Kingdom</td>\n",
       "      <td>19.3133</td>\n",
       "      <td>-81.2546</td>\n",
       "      <td>0</td>\n",
       "      <td>0</td>\n",
       "      <td>0</td>\n",
       "      <td>0</td>\n",
       "      <td>0</td>\n",
       "      <td>0</td>\n",
       "      <td>...</td>\n",
       "      <td>0</td>\n",
       "      <td>0</td>\n",
       "      <td>0</td>\n",
       "      <td>0</td>\n",
       "      <td>0</td>\n",
       "      <td>0</td>\n",
       "      <td>1</td>\n",
       "      <td>1</td>\n",
       "      <td>1</td>\n",
       "      <td>1</td>\n",
       "    </tr>\n",
       "  </tbody>\n",
       "</table>\n",
       "<p>463 rows × 59 columns</p>\n",
       "</div>"
      ],
      "text/plain": [
       "     Province/State  Country/Region      Lat      Long  1/22/20  1/23/20  \\\n",
       "0               NaN        Thailand  15.0000  101.0000        2        3   \n",
       "1               NaN           Japan  36.0000  138.0000        2        1   \n",
       "2               NaN       Singapore   1.2833  103.8333        0        1   \n",
       "3               NaN           Nepal  28.1667   84.2500        0        0   \n",
       "4               NaN        Malaysia   2.5000  112.5000        0        0   \n",
       "..              ...             ...      ...       ...      ...      ...   \n",
       "458             NaN         Somalia   5.1521   46.1996        0        0   \n",
       "459             NaN        Tanzania  -6.3690   34.8888        0        0   \n",
       "460             NaN     The Bahamas  24.2500  -76.0000        0        0   \n",
       "461  Virgin Islands              US  18.3358  -64.8963        0        0   \n",
       "462  Cayman Islands  United Kingdom  19.3133  -81.2546        0        0   \n",
       "\n",
       "     1/24/20  1/25/20  1/26/20  1/27/20  ...  3/7/20  3/8/20  3/9/20  3/10/20  \\\n",
       "0          5        7        8        8  ...      50      50      50       53   \n",
       "1          2        2        4        4  ...     461     502     511      581   \n",
       "2          3        3        4        5  ...     138     150     150      160   \n",
       "3          0        1        1        1  ...       1       1       1        1   \n",
       "4          0        3        4        4  ...      93      99     117      129   \n",
       "..       ...      ...      ...      ...  ...     ...     ...     ...      ...   \n",
       "458        0        0        0        0  ...       0       0       0        0   \n",
       "459        0        0        0        0  ...       0       0       0        0   \n",
       "460        0        0        0        0  ...       0       0       0        0   \n",
       "461        0        0        0        0  ...       0       0       0        0   \n",
       "462        0        0        0        0  ...       0       0       0        0   \n",
       "\n",
       "     3/11/20  3/12/20  3/13/20  3/14/20  3/15/20  3/16/20  \n",
       "0         59       70       75       82      114      147  \n",
       "1        639      639      701      773      839      825  \n",
       "2        178      178      200      212      226      243  \n",
       "3          1        1        1        1        1        1  \n",
       "4        149      149      197      238      428      566  \n",
       "..       ...      ...      ...      ...      ...      ...  \n",
       "458        0        0        0        0        0        1  \n",
       "459        0        0        0        0        0        1  \n",
       "460        0        0        0        0        0        1  \n",
       "461        0        0        0        1        1        1  \n",
       "462        0        0        1        1        1        1  \n",
       "\n",
       "[463 rows x 59 columns]"
      ]
     },
     "execution_count": 3,
     "metadata": {},
     "output_type": "execute_result"
    }
   ],
   "source": [
    "path=\"./csse_covid_19_data/csse_covid_19_time_series/time_series_19-covid-Confirmed.csv\"\n",
    "df=pd.read_csv(path)\n",
    "width=len(df.columns)-4 #Širina časovnega zaporedja\n",
    "height=len(df)\n",
    "df"
   ]
  },
  {
   "cell_type": "markdown",
   "metadata": {},
   "source": [
    "Iz teh podatkov naredimo seznam časovnih vrst. "
   ]
  },
  {
   "cell_type": "code",
   "execution_count": 5,
   "metadata": {},
   "outputs": [],
   "source": [
    "series=[]\n",
    "for row in range(height):\n",
    "    data=[]\n",
    "    for col in range(4,len(df.columns)):\n",
    "        data.append(df[df.columns[col]][row])\n",
    "    series.append(data)"
   ]
  },
  {
   "cell_type": "markdown",
   "metadata": {},
   "source": [
    "Vzamemo neko funkcijo za napako ki je odporna na b=0, ampak vseeno rajši aproksimira relativno napako, ker nas ta precej bolj zanima"
   ]
  },
  {
   "cell_type": "code",
   "execution_count": 6,
   "metadata": {},
   "outputs": [],
   "source": [
    "def err(x,a):\n",
    "    if abs(x-a)<=5 or a==0:#Za majhne primere je ok če je približno blizu\n",
    "        return 0\n",
    "    else:\n",
    "        return abs(x/a-1)"
   ]
  },
  {
   "cell_type": "markdown",
   "metadata": {},
   "source": [
    "Napišemo si funkcijo ki oceni nek (model?) algoritem."
   ]
  },
  {
   "cell_type": "code",
   "execution_count": 7,
   "metadata": {},
   "outputs": [],
   "source": [
    "class Data_segment:\n",
    "    def __init__(self,input_list):\n",
    "        self.input=input_list[:-1]\n",
    "        self.ans=input_list[-1]"
   ]
  },
  {
   "cell_type": "code",
   "execution_count": 12,
   "metadata": {},
   "outputs": [],
   "source": [
    "def input_generator(previous_data_length):\n",
    "    inputs=[]\n",
    "    for row in range(len(series)):\n",
    "        for c in range(len(series[row])-previous_data_length+1):\n",
    "            if series[row][c]!=0:\n",
    "                list=series[row][c:c+previous_data_length+1]\n",
    "                inputs.append(Data_segment(list))\n",
    "    return inputs"
   ]
  },
  {
   "cell_type": "code",
   "execution_count": 13,
   "metadata": {},
   "outputs": [],
   "source": [
    "def evaluate(prediction):\n",
    "    err_sum=0#vsota relativnih napak\n",
    "    tries=len(inputs)\n",
    "    previous_data_length=6#Koliko podatkov nazaj dobi prediction\n",
    "    for input in inputs:\n",
    "        response=prediction(input.input,previous_data_length)\n",
    "        correct=input.ans\n",
    "        error=err(response,correct)\n",
    "        #print(str(input.input)+\" \"+str(response)+\" \"+str(input.ans)+\" \"+str(error))\n",
    "        err_sum+=error\n",
    "    return err_sum/tries"
   ]
  },
  {
   "cell_type": "code",
   "execution_count": 141,
   "metadata": {},
   "outputs": [
    {
     "name": "stdout",
     "output_type": "stream",
     "text": [
      "[2, 3, 5, 7, 8, 8]\n",
      "14\n"
     ]
    }
   ],
   "source": [
    "inputs=input_generator(6)\n",
    "print(inputs[0].input)\n",
    "print(inputs[0].ans)"
   ]
  },
  {
   "cell_type": "markdown",
   "metadata": {},
   "source": [
    "Prvi poskus: število okužb jutri bo 0. To bi moralo dati slab rezultat"
   ]
  },
  {
   "cell_type": "code",
   "execution_count": 142,
   "metadata": {},
   "outputs": [
    {
     "name": "stdout",
     "output_type": "stream",
     "text": [
      "0.6864081806561568\n"
     ]
    }
   ],
   "source": [
    "def return_healthy_for_sure(ls,length):\n",
    "    return 0\n",
    "print(evaluate(return_healthy_for_sure))"
   ]
  },
  {
   "cell_type": "markdown",
   "metadata": {},
   "source": [
    "Verjetno je precej boljša ideja da vrnemo število okuženih včeraj. Vsaj spodnja meja se ujema..."
   ]
  },
  {
   "cell_type": "code",
   "execution_count": 143,
   "metadata": {},
   "outputs": [
    {
     "name": "stdout",
     "output_type": "stream",
     "text": [
      "0.05371997946275823\n"
     ]
    }
   ],
   "source": [
    "def return_yesterday(ls,length):\n",
    "    return ls[-1]\n",
    "print(evaluate(return_yesterday))"
   ]
  },
  {
   "cell_type": "markdown",
   "metadata": {},
   "source": [
    "Kot kaže je uporaba malo logike precej boljša. Kdo bi si mislil. Sedaj naredimo interpolacijo iz enega dneva nazaj"
   ]
  },
  {
   "cell_type": "code",
   "execution_count": 144,
   "metadata": {},
   "outputs": [
    {
     "name": "stdout",
     "output_type": "stream",
     "text": [
      "0.038211603817686124\n"
     ]
    }
   ],
   "source": [
    "def small_interpolation(ls,length):\n",
    "    return ls[-1]+(ls[-1]-ls[-2])\n",
    "print(evaluate(small_interpolation))"
   ]
  },
  {
   "cell_type": "markdown",
   "metadata": {},
   "source": [
    "Hm to je morda malo boljše, ampak je izboljšava precej majhna. Ni mi še jasno zakaj..."
   ]
  },
  {
   "cell_type": "markdown",
   "metadata": {},
   "source": [
    "Ok poskusimo sedaj interpolirati tako da vzamemo rast zadnjih dveh dni"
   ]
  },
  {
   "cell_type": "code",
   "execution_count": 145,
   "metadata": {},
   "outputs": [
    {
     "name": "stdout",
     "output_type": "stream",
     "text": [
      "0.03227597414238154\n"
     ]
    }
   ],
   "source": [
    "def medium_interpolation(ls,length):\n",
    "    return ls[-1]+(ls[-1]-ls[-3])/2\n",
    "print(evaluate(medium_interpolation))"
   ]
  },
  {
   "cell_type": "markdown",
   "metadata": {},
   "source": [
    "Hm sedaj je rezultat še boljši. Vzemimo 3 dni"
   ]
  },
  {
   "cell_type": "code",
   "execution_count": 146,
   "metadata": {},
   "outputs": [
    {
     "name": "stdout",
     "output_type": "stream",
     "text": [
      "0.03132984472249576\n"
     ]
    }
   ],
   "source": [
    "def longer_interpolation(ls,length):\n",
    "    return ls[-1]+(ls[-1]-ls[-4])/3\n",
    "print(evaluate(longer_interpolation))"
   ]
  },
  {
   "cell_type": "markdown",
   "metadata": {},
   "source": [
    "Spet boljše. Poskusimo 4 dni."
   ]
  },
  {
   "cell_type": "code",
   "execution_count": 147,
   "metadata": {},
   "outputs": [
    {
     "name": "stdout",
     "output_type": "stream",
     "text": [
      "0.03128309694388401\n"
     ]
    }
   ],
   "source": [
    "def long_interpolation(ls,length):\n",
    "    return ls[-1]+(ls[-1]-ls[-5])/4\n",
    "print(evaluate(long_interpolation))"
   ]
  },
  {
   "cell_type": "markdown",
   "metadata": {},
   "source": [
    "Sedaj dobimo malo slabši rezultat. Recimo da je interpolacija za 3 dni nekako kar v redu kar se tiče linearnih interpolacij. Ni očitno zakaj bi bila, ampak ne pričakujem da bo to najboljše kar bom lahko našel. Poskusimo sedaj z eksponentno funkcijo. Torej razmerje med predvčerajšnjim in včeraj bi moralo biti podobno razmerju med včeraj in danes. "
   ]
  },
  {
   "cell_type": "code",
   "execution_count": 148,
   "metadata": {},
   "outputs": [
    {
     "name": "stdout",
     "output_type": "stream",
     "text": [
      "0.07627566244676431\n"
     ]
    },
    {
     "name": "stderr",
     "output_type": "stream",
     "text": [
      "c:\\users\\gregor\\appdata\\local\\programs\\python\\python37\\lib\\site-packages\\ipykernel_launcher.py:4: RuntimeWarning: invalid value encountered in longlong_scalars\n",
      "  after removing the cwd from sys.path.\n"
     ]
    }
   ],
   "source": [
    "def ratio_interpolation(ls,length):\n",
    "    if ls[-3]==0:\n",
    "        return longer_interpolation(ls,length)\n",
    "    return ls[-1]*(ls[-1]/ls[-2])\n",
    "print(evaluate(ratio_interpolation))"
   ]
  },
  {
   "cell_type": "markdown",
   "metadata": {},
   "source": [
    "Izgleda slabše?! Oglejmo si kako naši algoritmi delujejo s pomočjo grafa"
   ]
  },
  {
   "cell_type": "code",
   "execution_count": 181,
   "metadata": {},
   "outputs": [
    {
     "name": "stdout",
     "output_type": "stream",
     "text": [
      "[0, 0, 0, 3, 4, 4, 4, 7, 8, 8, 8, 8, 8, 10, 12, 12, 12, 16, 16, 18, 18, 18, 19, 19, 22, 22, 22, 22, 22, 22, 22, 22, 22, 22, 22, 22, 23, 23, 25, 29, 29, 36, 50, 50, 83, 93, 99, 117, 129, 149, 149, 197, 238, 428, 566]\n"
     ]
    }
   ],
   "source": [
    "row=series[random.randrange(len(series))]\n",
    "print(row)"
   ]
  },
  {
   "cell_type": "code",
   "execution_count": 189,
   "metadata": {},
   "outputs": [
    {
     "data": {
      "text/plain": [
       "<matplotlib.legend.Legend at 0x136f259a688>"
      ]
     },
     "execution_count": 189,
     "metadata": {},
     "output_type": "execute_result"
    },
    {
     "data": {
      "image/png": "[encoded data removed]",
      "text/plain": [
       "<Figure size 1440x1080 with 2 Axes>"
      ]
     },
     "metadata": {
      "needs_background": "light"
     },
     "output_type": "display_data"
    }
   ],
   "source": [
    "x=np.arange(0, len(row), 1);\n",
    "y=[]\n",
    "lin_p=[]\n",
    "exp_p=[]\n",
    "for i in range(len(row)):\n",
    "    y.append(row[i])\n",
    "    \n",
    "for i in range(10):\n",
    "    lin_p.append(row[i])\n",
    "for i in range(10,len(row)):\n",
    "    lin_p.append(longer_interpolation(y[i-10:i],10))\n",
    "    \n",
    "for i in range(10):\n",
    "    exp_p.append(row[i])\n",
    "for i in range(10,len(row)):\n",
    "    exp_p.append(good_linear_interpolation(y[i-10:i],10))\n",
    "\n",
    "errors_lin=[err(lin_p[i],y[i]) for i in range(len(row))]\n",
    "errors_exp=[err(exp_p[i],y[i]) for i in range(len(row))]\n",
    "plt.subplot(2, 1, 1)\n",
    "plt.plot(x, y ,'go', label=\"Ground\")\n",
    "plt.plot(x, lin_p, label=\"Linear fit\")\n",
    "plt.plot(x, exp_p, label=\"Exponential fit\")\n",
    "plt.legend()\n",
    "\n",
    "plt.subplot(2, 1, 2)\n",
    "plt.plot(x, errors_lin, label=\"Linear error\")\n",
    "plt.plot(x, errors_exp, label=\"Exponential error\")\n",
    "plt.legend()"
   ]
  },
  {
   "cell_type": "markdown",
   "metadata": {},
   "source": [
    "Hm ok izgleda kot da preveč skačemo okoli, kar nam seveda poveča relativno napako. Poglejmo si razmerja zadnjih nekaj dni, in za faktor množenja uporabimo njihovo linearno kombinacijo, kjer so \"uteži\" določene tako, da se prilegajo podatkom"
   ]
  },
  {
   "cell_type": "code",
   "execution_count": 184,
   "metadata": {},
   "outputs": [
    {
     "name": "stdout",
     "output_type": "stream",
     "text": [
      "0\n",
      "0.6759885023016637\n",
      "[0, 0, 0.0, 0.014145270620256434]\n",
      "0.6724892400473291\n",
      "[0, 0, 0.004733786959932174, 0.014145270620256434]\n",
      "0.661515156640084\n",
      "[0, 0.015183598512643448, 0.004733786959932174, 0.014145270620256434]\n",
      "0.6593726618982277\n",
      "[0.002996065445454982, 0.015183598512643448, 0.004733786959932174, 0.014145270620256434]\n",
      "0.6438600768837177\n",
      "[0.002996065445454982, 0.015183598512643448, 0.025484331564337208, 0.014145270620256434]\n",
      "0.6282092839660318\n",
      "[0.002996065445454982, 0.036384992197913385, 0.025484331564337208, 0.014145270620256434]\n",
      "0.6213270069684113\n",
      "[0.002996065445454982, 0.045929727770995785, 0.025484331564337208, 0.014145270620256434]\n",
      "0.6137882901852038\n",
      "[0.013088144781203214, 0.045929727770995785, 0.025484331564337208, 0.014145270620256434]\n",
      "0.5949316644451702\n",
      "[0.013088144781203214, 0.07044221887474175, 0.025484331564337208, 0.014145270620256434]\n",
      "0.5759271455376078\n",
      "[0.013088144781203214, 0.07044221887474175, 0.050181307206185174, 0.014145270620256434]\n",
      "0.5661338550768775\n",
      "[0.013088144781203214, 0.08193638482153115, 0.050181307206185174, 0.014145270620256434]\n",
      "0.5562684703834911\n",
      "[0.013088144781203214, 0.09250669849422444, 0.050181307206185174, 0.014145270620256434]\n",
      "0.5447718360292506\n",
      "[0.013088144781203214, 0.10803603173414239, 0.050181307206185174, 0.014145270620256434]\n",
      "0.5423930132608679\n",
      "[0.013088144781203214, 0.1109451717162166, 0.050181307206185174, 0.014145270620256434]\n",
      "0.5397048270750046\n",
      "[0.013088144781203214, 0.11421944107316759, 0.050181307206185174, 0.014145270620256434]\n",
      "0.5356900018341423\n",
      "[0.013088144781203214, 0.11421944107316759, 0.050181307206185174, 0.018818563897484587]\n",
      "0.5190884885659645\n",
      "[0.034719172284018635, 0.11421944107316759, 0.050181307206185174, 0.018818563897484587]\n",
      "0.5148914110950116\n",
      "[0.034719172284018635, 0.11421944107316759, 0.05558075016803062, 0.018818563897484587]\n",
      "0.5141971133983697\n",
      "[0.034719172284018635, 0.11421944107316759, 0.05558075016803062, 0.01978335350075477]\n",
      "0.5058118859245959\n",
      "[0.034719172284018635, 0.11421944107316759, 0.05558075016803062, 0.029971993930655506]\n",
      "0.48664212635254717\n",
      "[0.034719172284018635, 0.11421944107316759, 0.05558075016803062, 0.05463261555846908]\n",
      "0.47339461115960574\n",
      "[0.05077886450258243, 0.11421944107316759, 0.05558075016803062, 0.05463261555846908]\n",
      "0.4582865599053749\n",
      "[0.06989450768746924, 0.11421944107316759, 0.05558075016803062, 0.05463261555846908]\n",
      "0.45149247535571857\n",
      "[0.06989450768746924, 0.11421944107316759, 0.06381160474991242, 0.05463261555846908]\n",
      "0.44050525064119905\n",
      "[0.06989450768746924, 0.11421944107316759, 0.06381160474991242, 0.06875969094190898]\n",
      "0.4285577262567354\n",
      "[0.06989450768746924, 0.11421944107316759, 0.07806265039626689, 0.06875969094190898]\n",
      "0.4213037120308063\n",
      "[0.07969975610436585, 0.11421944107316759, 0.07806265039626689, 0.06875969094190898]\n",
      "0.41633451180765935\n",
      "[0.07969975610436585, 0.12132103829297096, 0.07806265039626689, 0.06875969094190898]\n",
      "0.4161687303747469\n",
      "[0.07994884185148775, 0.12132103829297096, 0.07806265039626689, 0.06875969094190898]\n",
      "0.3975168354232795\n",
      "[0.10469582349499996, 0.12132103829297096, 0.07806265039626689, 0.06875969094190898]\n",
      "0.3930477594521766\n",
      "[0.11092832084352486, 0.12132103829297096, 0.07806265039626689, 0.06875969094190898]\n",
      "0.39259251826059083\n",
      "[0.11092832084352486, 0.12132103829297096, 0.07806265039626689, 0.06925255172452789]\n",
      "0.3755985013949176\n",
      "[0.11092832084352486, 0.12132103829297096, 0.10047038985440143, 0.06925255172452789]\n",
      "0.3604834776475033\n",
      "[0.11092832084352486, 0.12132103829297096, 0.12138449759909159, 0.06925255172452789]\n",
      "0.3479857171316535\n",
      "[0.11092832084352486, 0.12132103829297096, 0.13721888341692434, 0.06925255172452789]\n",
      "0.3290792419673234\n",
      "[0.13589732094053633, 0.12132103829297096, 0.13721888341692434, 0.06925255172452789]\n",
      "0.3129210128665917\n",
      "[0.15676039600621394, 0.12132103829297096, 0.13721888341692434, 0.06925255172452789]\n",
      "0.3091503766387959\n",
      "[0.15676039600621394, 0.12132103829297096, 0.13721888341692434, 0.07470728908806921]\n",
      "0.302546717667426\n",
      "[0.15676039600621394, 0.12132103829297095, 0.14691705874249342, 0.07470728908806921]\n",
      "0.28703387598587515\n",
      "[0.15676039600621394, 0.12132103829297095, 0.14691705874249342, 0.09067344434070601]\n",
      "0.2828992860632424\n",
      "[0.15676039600621394, 0.12700673799704987, 0.14691705874249342, 0.09067344434070601]\n",
      "0.2791629262888411\n",
      "[0.15676039600621394, 0.12700673799704987, 0.15274384489002518, 0.09067344434070601]\n",
      "0.2780095690169097\n",
      "[0.15676039600621394, 0.12700673799704987, 0.15274384489002518, 0.09220455954772819]\n",
      "0.2641090427689173\n",
      "[0.15676039600621394, 0.12700673799704987, 0.15274384489002518, 0.1110203329584685]\n",
      "0.2586339320339414\n",
      "[0.15676039600621394, 0.12700673799704987, 0.1611548895575134, 0.1110203329584685]\n",
      "0.25165808708065607\n",
      "[0.15676039600621394, 0.13750872997703692, 0.1611548895575134, 0.1110203329584685]\n",
      "0.24641383137491996\n",
      "[0.1645371216033008, 0.13750872997703692, 0.1611548895575134, 0.1110203329584685]\n",
      "0.2382332458779839\n",
      "[0.1768797444809522, 0.13750872997703692, 0.1611548895575134, 0.1110203329584685]\n",
      "0.2373486424752696\n",
      "[0.1768797444809522, 0.13880060292011448, 0.1611548895575134, 0.1110203329584685]\n",
      "0.2300591356648732\n",
      "[0.1768797444809522, 0.13880060292011448, 0.1611548895575134, 0.122083580760523]\n",
      "0.21489786360925578\n",
      "[0.1768797444809522, 0.13880060292011448, 0.1611548895575134, 0.14523888748055827]\n",
      "0.2105106031445483\n",
      "[0.18388415298865782, 0.13880060292011448, 0.1611548895575134, 0.14523888748055827]\n",
      "0.2085112336584791\n",
      "[0.18388415298865782, 0.13880060292011448, 0.1611548895575134, 0.1486766287060075]\n",
      "100\n",
      "0.2042305865315046\n",
      "[0.18388415298865782, 0.14562182242324395, 0.1611548895575134, 0.1486766287060075]\n",
      "0.2021200836176696\n",
      "[0.18388415298865782, 0.14562182242324395, 0.1611548895575134, 0.1521342433269838]\n",
      "0.19119209618030655\n",
      "[0.2020510489081863, 0.14562182242324395, 0.1611548895575134, 0.1521342433269838]\n",
      "0.17699218488752355\n",
      "[0.2020510489081863, 0.14562182242324395, 0.1840131558005874, 0.1521342433269838]\n",
      "0.16445578883763298\n",
      "[0.2020510489081863, 0.16386815449127287, 0.1840131558005874, 0.1521342433269838]\n",
      "0.15706682401875544\n",
      "[0.2020510489081863, 0.16386815449127287, 0.1840131558005874, 0.1658116248004415]\n",
      "0.14657883522746543\n",
      "[0.2020510489081863, 0.16386815449127287, 0.1840131558005874, 0.18184653478024815]\n",
      "0.13709545128711786\n",
      "[0.2020510489081863, 0.16386815449127287, 0.1840131558005874, 0.20061667579530337]\n",
      "0.12809488568376007\n",
      "[0.2020510489081863, 0.16386815449127287, 0.2026244244495767, 0.20061667579530337]\n",
      "0.11684757521625176\n",
      "[0.2020510489081863, 0.1881348179467478, 0.2026244244495767, 0.20061667579530337]\n",
      "0.10671493079488593\n",
      "[0.2020510489081863, 0.1881348179467478, 0.2026244244495767, 0.22381010198518017]\n",
      "0.1020248382588316\n",
      "[0.2020510489081863, 0.1881348179467478, 0.21451867278712225, 0.22381010198518017]\n",
      "0.101428409016874\n",
      "[0.2020510489081863, 0.18979074585218494, 0.21451867278712225, 0.22381010198518017]\n",
      "0.0925125537202156\n",
      "[0.2020510489081863, 0.18979074585218494, 0.21451867278712225, 0.2485804965293904]\n",
      "0.09116848660315598\n",
      "[0.2020510489081863, 0.19411788333432778, 0.21451867278712225, 0.2485804965293904]\n",
      "0.08827639458927265\n",
      "[0.2020510489081863, 0.19411788333432778, 0.21451867278712225, 0.2572917131900212]\n",
      "0.08503517349856594\n",
      "[0.2020510489081863, 0.19411788333432778, 0.21451867278712225, 0.26811513447035407]\n",
      "0.0848229058008409\n",
      "[0.20290274760889734, 0.19411788333432778, 0.21451867278712225, 0.26811513447035407]\n",
      "0.0841272664620304\n",
      "[0.20506187489202785, 0.19411788333432778, 0.21451867278712225, 0.26811513447035407]\n",
      "0.08095391105235722\n",
      "[0.20506187489202785, 0.2034074449848557, 0.21451867278712225, 0.26811513447035407]\n",
      "0.07450687540879304\n",
      "[0.20506187489202785, 0.2034074449848557, 0.21451867278712225, 0.29053129608228867]\n",
      "0.07040040039742941\n",
      "[0.20506187489202785, 0.2034074449848557, 0.21451867278712225, 0.30997345170628066]\n",
      "0.06922305369983817\n",
      "[0.20506187489202785, 0.2034074449848557, 0.21892142258546454, 0.30997345170628066]\n",
      "0.06546715369938791\n",
      "[0.20506187489202785, 0.22324229409494106, 0.21892142258546454, 0.30997345170628066]\n",
      "0.06395881593854191\n",
      "[0.22341376373891106, 0.22324229409494106, 0.21892142258546454, 0.30997345170628066]\n",
      "0.06386371742719471\n",
      "[0.23040287592671607, 0.22324229409494106, 0.21892142258546454, 0.30997345170628066]\n",
      "0.06383694632482889\n",
      "[0.23040287592671607, 0.2249749365465763, 0.21892142258546454, 0.30997345170628066]\n",
      "0.0636707965744162\n",
      "[0.23040287592671604, 0.2249749365465763, 0.21892142258546454, 0.30631894685244326]\n",
      "0.06359961019116653\n",
      "[0.23040287592671604, 0.2249749365465763, 0.21892142258546454, 0.303705692585584]\n",
      "200\n",
      "0.06359047675108122\n",
      "[0.23307552879350693, 0.2249749365465763, 0.21892142258546454, 0.303705692585584]\n",
      "0.06350033114072258\n",
      "[0.2321369789555389, 0.2249749365465763, 0.21892142258546454, 0.303705692585584]\n",
      "300\n",
      "0.06349832302958312\n",
      "[0.23213697895553886, 0.22509468550131986, 0.21892142258546454, 0.303705692585584]\n",
      "400\n",
      "500\n",
      "0.06349799800415594\n",
      "[0.23212087951823132, 0.22509468550131986, 0.21892142258546454, 0.303705692585584]\n",
      "600\n",
      "0.06345503739741093\n",
      "[0.23212087951823127, 0.2250946855013199, 0.21892142258546454, 0.3005329983532687]\n",
      "0.06335512152535322\n",
      "[0.23679412117935572, 0.2250946855013199, 0.21892142258546454, 0.3005329983532687]\n",
      "700\n",
      "0.06335157036299206\n",
      "[0.23679412117935575, 0.2249654643798286, 0.21892142258546454, 0.30053299835326874]\n",
      "800\n",
      "0.06333551375786702\n",
      "[0.23679412117935575, 0.22421352144955833, 0.21892142258546454, 0.30053299835326874]\n",
      "0.06333222831789653\n",
      "[0.2366693863650448, 0.22421352144955836, 0.21892142258546454, 0.30053299835326874]\n",
      "900\n",
      "0.06333158450979924\n",
      "[0.23666938636504484, 0.22421352144955836, 0.2194205666397658, 0.30053299835326874]\n"
     ]
    }
   ],
   "source": [
    "def generate_fit_from_weights(w):\n",
    "    def div(a,b):\n",
    "        if b!=0:\n",
    "            return a/b\n",
    "        else:\n",
    "            return 0\n",
    "    def ratio_weight_interpolation(ls,length):\n",
    "        weightedTerms=[w[i]*(div(ls[-i-1],ls[-i-2])) for i in range(len(w))]\n",
    "        product=sum(weightedTerms)\n",
    "        return ls[-1]*(product)\n",
    "    \n",
    "    return ratio_weight_interpolation\n",
    "\n",
    "def generate_good_ratio_interpolation():\n",
    "    weights=[0,0,0,0]#Recimo [0,0,0,0] da prvo funkcijo ki vedno vrne 0, [1,0,0,0] pa da prejšnjo funkcijo ki gleda razmerja\n",
    "    best=evaluate(generate_fit_from_weights(weights))\n",
    "    w=0.05\n",
    "    for i in range(1000):\n",
    "        if(i%100==0):\n",
    "            print(i)\n",
    "        p=random.randrange(len(weights))\n",
    "        change=w*(random.random()-0.5)\n",
    "        weights[p]+=change\n",
    "        curr=evaluate(generate_fit_from_weights(weights))\n",
    "        #print(str(weights)+\" \"+str(curr))\n",
    "        if(curr<best):\n",
    "            best=curr\n",
    "            print(curr)\n",
    "            print(weights)\n",
    "        else:\n",
    "            weights[p]-=change\n",
    "    return generate_fit_from_weights(weights)\n",
    "    \n",
    "good_ratio_interpolation=generate_good_ratio_interpolation()"
   ]
  },
  {
   "cell_type": "markdown",
   "metadata": {},
   "source": [
    "Hm tudi z dosti dela so rezultati še vedno slabši od enostavne linearne interpolacije ki interpolira iz treh dni nazaj. Posksuimo rajši izboljšati linearno interpolacijo"
   ]
  },
  {
   "cell_type": "code",
   "execution_count": 194,
   "metadata": {},
   "outputs": [
    {
     "name": "stdout",
     "output_type": "stream",
     "text": [
      "0.03213745435786206\n",
      "0\n",
      "100\n",
      "200\n",
      "300\n",
      "400\n",
      "500\n",
      "600\n",
      "700\n",
      "800\n",
      "900\n",
      "1000\n",
      "1100\n",
      "1200\n",
      "1300\n",
      "1400\n",
      "1500\n",
      "1600\n",
      "1700\n",
      "1800\n",
      "1900\n",
      "2000\n",
      "2100\n",
      "2200\n",
      "2300\n",
      "2400\n",
      "2500\n",
      "2600\n",
      "2700\n",
      "2800\n",
      "2900\n",
      "3000\n",
      "3100\n",
      "3200\n",
      "3300\n",
      "3400\n",
      "3500\n",
      "3600\n",
      "3700\n",
      "3800\n",
      "3900\n",
      "4000\n",
      "4100\n",
      "4200\n"
     ]
    },
    {
     "ename": "KeyboardInterrupt",
     "evalue": "",
     "output_type": "error",
     "traceback": [
      "\u001b[1;31m---------------------------------------------------------------------------\u001b[0m",
      "\u001b[1;31mKeyboardInterrupt\u001b[0m                         Traceback (most recent call last)",
      "\u001b[1;32m<ipython-input-194-5d9ddf1f0612>\u001b[0m in \u001b[0;36m<module>\u001b[1;34m\u001b[0m\n\u001b[0;32m     24\u001b[0m     \u001b[1;32mreturn\u001b[0m \u001b[0mgenerate_fit_from_weights_linear\u001b[0m\u001b[1;33m(\u001b[0m\u001b[0mweights\u001b[0m\u001b[1;33m)\u001b[0m\u001b[1;33m\u001b[0m\u001b[1;33m\u001b[0m\u001b[0m\n\u001b[0;32m     25\u001b[0m \u001b[1;33m\u001b[0m\u001b[0m\n\u001b[1;32m---> 26\u001b[1;33m \u001b[0mgood_linear_interpolation\u001b[0m\u001b[1;33m=\u001b[0m\u001b[0mgenerate_good_linear_interpolation\u001b[0m\u001b[1;33m(\u001b[0m\u001b[1;33m)\u001b[0m\u001b[1;33m\u001b[0m\u001b[1;33m\u001b[0m\u001b[0m\n\u001b[0m",
      "\u001b[1;32m<ipython-input-194-5d9ddf1f0612>\u001b[0m in \u001b[0;36mgenerate_good_linear_interpolation\u001b[1;34m()\u001b[0m\n\u001b[0;32m     14\u001b[0m             \u001b[0mprint\u001b[0m\u001b[1;33m(\u001b[0m\u001b[0mi\u001b[0m\u001b[1;33m)\u001b[0m\u001b[1;33m\u001b[0m\u001b[1;33m\u001b[0m\u001b[0m\n\u001b[0;32m     15\u001b[0m         \u001b[0mw2\u001b[0m\u001b[1;33m=\u001b[0m\u001b[1;33m[\u001b[0m\u001b[1;36m2\u001b[0m\u001b[1;33m*\u001b[0m\u001b[1;33m(\u001b[0m\u001b[0mrandom\u001b[0m\u001b[1;33m.\u001b[0m\u001b[0mrandom\u001b[0m\u001b[1;33m(\u001b[0m\u001b[1;33m)\u001b[0m\u001b[1;33m-\u001b[0m\u001b[1;36m1\u001b[0m\u001b[1;33m/\u001b[0m\u001b[1;36m2\u001b[0m\u001b[1;33m)\u001b[0m \u001b[1;32mfor\u001b[0m \u001b[0mi\u001b[0m \u001b[1;32min\u001b[0m \u001b[0mrange\u001b[0m\u001b[1;33m(\u001b[0m\u001b[1;36m4\u001b[0m\u001b[1;33m)\u001b[0m\u001b[1;33m]\u001b[0m\u001b[1;33m\u001b[0m\u001b[1;33m\u001b[0m\u001b[0m\n\u001b[1;32m---> 16\u001b[1;33m         \u001b[0mcurr\u001b[0m\u001b[1;33m=\u001b[0m\u001b[0mevaluate\u001b[0m\u001b[1;33m(\u001b[0m\u001b[0mgenerate_fit_from_weights_linear\u001b[0m\u001b[1;33m(\u001b[0m\u001b[0mw2\u001b[0m\u001b[1;33m)\u001b[0m\u001b[1;33m)\u001b[0m\u001b[1;33m\u001b[0m\u001b[1;33m\u001b[0m\u001b[0m\n\u001b[0m\u001b[0;32m     17\u001b[0m         \u001b[1;31m#print(str(w2)+\" \"+str(curr))\u001b[0m\u001b[1;33m\u001b[0m\u001b[1;33m\u001b[0m\u001b[1;33m\u001b[0m\u001b[0m\n\u001b[0;32m     18\u001b[0m         \u001b[1;32mif\u001b[0m\u001b[1;33m(\u001b[0m\u001b[0mcurr\u001b[0m\u001b[1;33m<\u001b[0m\u001b[0mbest\u001b[0m\u001b[1;33m)\u001b[0m\u001b[1;33m:\u001b[0m\u001b[1;33m\u001b[0m\u001b[1;33m\u001b[0m\u001b[0m\n",
      "\u001b[1;32m<ipython-input-13-e00122a81092>\u001b[0m in \u001b[0;36mevaluate\u001b[1;34m(prediction)\u001b[0m\n\u001b[0;32m      4\u001b[0m     \u001b[0mprevious_data_length\u001b[0m\u001b[1;33m=\u001b[0m\u001b[1;36m10\u001b[0m\u001b[1;31m#Koliko podatkov nazaj dobi prediction\u001b[0m\u001b[1;33m\u001b[0m\u001b[1;33m\u001b[0m\u001b[0m\n\u001b[0;32m      5\u001b[0m     \u001b[1;32mfor\u001b[0m \u001b[0minput\u001b[0m \u001b[1;32min\u001b[0m \u001b[0minputs\u001b[0m\u001b[1;33m:\u001b[0m\u001b[1;33m\u001b[0m\u001b[1;33m\u001b[0m\u001b[0m\n\u001b[1;32m----> 6\u001b[1;33m         \u001b[0mresponse\u001b[0m\u001b[1;33m=\u001b[0m\u001b[0mprediction\u001b[0m\u001b[1;33m(\u001b[0m\u001b[0minput\u001b[0m\u001b[1;33m.\u001b[0m\u001b[0minput\u001b[0m\u001b[1;33m,\u001b[0m\u001b[0mprevious_data_length\u001b[0m\u001b[1;33m)\u001b[0m\u001b[1;33m\u001b[0m\u001b[1;33m\u001b[0m\u001b[0m\n\u001b[0m\u001b[0;32m      7\u001b[0m         \u001b[0mcorrect\u001b[0m\u001b[1;33m=\u001b[0m\u001b[0minput\u001b[0m\u001b[1;33m.\u001b[0m\u001b[0mans\u001b[0m\u001b[1;33m\u001b[0m\u001b[1;33m\u001b[0m\u001b[0m\n\u001b[0;32m      8\u001b[0m         \u001b[0merror\u001b[0m\u001b[1;33m=\u001b[0m\u001b[0merr\u001b[0m\u001b[1;33m(\u001b[0m\u001b[0mresponse\u001b[0m\u001b[1;33m,\u001b[0m\u001b[0mcorrect\u001b[0m\u001b[1;33m)\u001b[0m\u001b[1;33m\u001b[0m\u001b[1;33m\u001b[0m\u001b[0m\n",
      "\u001b[1;32m<ipython-input-194-5d9ddf1f0612>\u001b[0m in \u001b[0;36mlinear_weight_interpolation\u001b[1;34m(ls, length)\u001b[0m\n\u001b[0;32m      1\u001b[0m \u001b[1;32mdef\u001b[0m \u001b[0mgenerate_fit_from_weights_linear\u001b[0m\u001b[1;33m(\u001b[0m\u001b[0mw\u001b[0m\u001b[1;33m)\u001b[0m\u001b[1;33m:\u001b[0m\u001b[1;33m\u001b[0m\u001b[1;33m\u001b[0m\u001b[0m\n\u001b[0;32m      2\u001b[0m     \u001b[1;32mdef\u001b[0m \u001b[0mlinear_weight_interpolation\u001b[0m\u001b[1;33m(\u001b[0m\u001b[0mls\u001b[0m\u001b[1;33m,\u001b[0m\u001b[0mlength\u001b[0m\u001b[1;33m)\u001b[0m\u001b[1;33m:\u001b[0m\u001b[1;33m\u001b[0m\u001b[1;33m\u001b[0m\u001b[0m\n\u001b[1;32m----> 3\u001b[1;33m         \u001b[0mweightedTerms\u001b[0m\u001b[1;33m=\u001b[0m\u001b[1;33m[\u001b[0m\u001b[0mw\u001b[0m\u001b[1;33m[\u001b[0m\u001b[0mi\u001b[0m\u001b[1;33m]\u001b[0m\u001b[1;33m*\u001b[0m\u001b[0mls\u001b[0m\u001b[1;33m[\u001b[0m\u001b[1;33m-\u001b[0m\u001b[1;36m1\u001b[0m\u001b[1;33m-\u001b[0m\u001b[0mi\u001b[0m\u001b[1;33m]\u001b[0m \u001b[1;32mfor\u001b[0m \u001b[0mi\u001b[0m \u001b[1;32min\u001b[0m \u001b[0mrange\u001b[0m\u001b[1;33m(\u001b[0m\u001b[0mlen\u001b[0m\u001b[1;33m(\u001b[0m\u001b[0mw\u001b[0m\u001b[1;33m)\u001b[0m\u001b[1;33m)\u001b[0m\u001b[1;33m]\u001b[0m\u001b[1;33m\u001b[0m\u001b[1;33m\u001b[0m\u001b[0m\n\u001b[0m\u001b[0;32m      4\u001b[0m         \u001b[1;32mreturn\u001b[0m \u001b[0msum\u001b[0m\u001b[1;33m(\u001b[0m\u001b[0mweightedTerms\u001b[0m\u001b[1;33m)\u001b[0m\u001b[1;33m\u001b[0m\u001b[1;33m\u001b[0m\u001b[0m\n\u001b[0;32m      5\u001b[0m \u001b[1;33m\u001b[0m\u001b[0m\n",
      "\u001b[1;32m<ipython-input-194-5d9ddf1f0612>\u001b[0m in \u001b[0;36m<listcomp>\u001b[1;34m(.0)\u001b[0m\n\u001b[0;32m      1\u001b[0m \u001b[1;32mdef\u001b[0m \u001b[0mgenerate_fit_from_weights_linear\u001b[0m\u001b[1;33m(\u001b[0m\u001b[0mw\u001b[0m\u001b[1;33m)\u001b[0m\u001b[1;33m:\u001b[0m\u001b[1;33m\u001b[0m\u001b[1;33m\u001b[0m\u001b[0m\n\u001b[0;32m      2\u001b[0m     \u001b[1;32mdef\u001b[0m \u001b[0mlinear_weight_interpolation\u001b[0m\u001b[1;33m(\u001b[0m\u001b[0mls\u001b[0m\u001b[1;33m,\u001b[0m\u001b[0mlength\u001b[0m\u001b[1;33m)\u001b[0m\u001b[1;33m:\u001b[0m\u001b[1;33m\u001b[0m\u001b[1;33m\u001b[0m\u001b[0m\n\u001b[1;32m----> 3\u001b[1;33m         \u001b[0mweightedTerms\u001b[0m\u001b[1;33m=\u001b[0m\u001b[1;33m[\u001b[0m\u001b[0mw\u001b[0m\u001b[1;33m[\u001b[0m\u001b[0mi\u001b[0m\u001b[1;33m]\u001b[0m\u001b[1;33m*\u001b[0m\u001b[0mls\u001b[0m\u001b[1;33m[\u001b[0m\u001b[1;33m-\u001b[0m\u001b[1;36m1\u001b[0m\u001b[1;33m-\u001b[0m\u001b[0mi\u001b[0m\u001b[1;33m]\u001b[0m \u001b[1;32mfor\u001b[0m \u001b[0mi\u001b[0m \u001b[1;32min\u001b[0m \u001b[0mrange\u001b[0m\u001b[1;33m(\u001b[0m\u001b[0mlen\u001b[0m\u001b[1;33m(\u001b[0m\u001b[0mw\u001b[0m\u001b[1;33m)\u001b[0m\u001b[1;33m)\u001b[0m\u001b[1;33m]\u001b[0m\u001b[1;33m\u001b[0m\u001b[1;33m\u001b[0m\u001b[0m\n\u001b[0m\u001b[0;32m      4\u001b[0m         \u001b[1;32mreturn\u001b[0m \u001b[0msum\u001b[0m\u001b[1;33m(\u001b[0m\u001b[0mweightedTerms\u001b[0m\u001b[1;33m)\u001b[0m\u001b[1;33m\u001b[0m\u001b[1;33m\u001b[0m\u001b[0m\n\u001b[0;32m      5\u001b[0m \u001b[1;33m\u001b[0m\u001b[0m\n",
      "\u001b[1;31mKeyboardInterrupt\u001b[0m: "
     ]
    }
   ],
   "source": [
    "def generate_fit_from_weights_linear(w):\n",
    "    def linear_weight_interpolation(ls,length):\n",
    "        weightedTerms=[w[i]*ls[-1-i] for i in range(len(w))]\n",
    "        return sum(weightedTerms)\n",
    "    \n",
    "    return linear_weight_interpolation\n",
    "\n",
    "def generate_good_linear_interpolation():\n",
    "    weights=[1.3,0,0,-0.3]#Recimo [0,0,0,0] da prvo funkcijo ki vedno vrne 0, [1,0,0,0] pa da funckijo ki gleda včeraj\n",
    "    best=evaluate(generate_fit_from_weights_linear(weights))\n",
    "    print(best)\n",
    "    w=1\n",
    "    for i in range(1000):\n",
    "        if(i%100==0):\n",
    "            print(i)\n",
    "        p=random.randrange(len(weights))\n",
    "        change=w*(random.random()-0.5)\n",
    "        weights[p]+=change\n",
    "        curr=evaluate(generate_fit_from_weights_linear(weights))\n",
    "        #print(str(weights)+\" \"+str(curr))\n",
    "        if(curr<best):\n",
    "            best=curr\n",
    "            print(curr)\n",
    "            print(weights)\n",
    "        else:\n",
    "            weights[p]-=change\n",
    "    print(best)\n",
    "    return generate_fit_from_weights_linear(weights)\n",
    "    \n",
    "good_linear_interpolation=generate_good_linear_interpolation()"
   ]
  },
  {
   "cell_type": "code",
   "execution_count": null,
   "metadata": {},
   "outputs": [],
   "source": []
  }
 ],
 "metadata": {
  "kernelspec": {
   "display_name": "Python 3",
   "language": "python",
   "name": "python3"
  },
  "language_info": {
   "codemirror_mode": {
    "name": "ipython",
    "version": 3
   },
   "file_extension": ".py",
   "mimetype": "text/x-python",
   "name": "python",
   "nbconvert_exporter": "python",
   "pygments_lexer": "ipython3",
   "version": "3.7.4"
  }
 },
 "nbformat": 4,
 "nbformat_minor": 4
}
