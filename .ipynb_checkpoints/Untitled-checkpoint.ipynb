{
 "cells": [
  {
   "cell_type": "code",
   "execution_count": 40,
   "metadata": {},
   "outputs": [],
   "source": [
    "import pandas as pd\n",
    "import os\n",
    "import random"
   ]
  },
  {
   "cell_type": "markdown",
   "metadata": {},
   "source": [
    "Poberemo podatke o številu okužb po dnevih"
   ]
  },
  {
   "cell_type": "code",
   "execution_count": 43,
   "metadata": {},
   "outputs": [
    {
     "data": {
      "text/html": [
       "<div>\n",
       "<style scoped>\n",
       "    .dataframe tbody tr th:only-of-type {\n",
       "        vertical-align: middle;\n",
       "    }\n",
       "\n",
       "    .dataframe tbody tr th {\n",
       "        vertical-align: top;\n",
       "    }\n",
       "\n",
       "    .dataframe thead th {\n",
       "        text-align: right;\n",
       "    }\n",
       "</style>\n",
       "<table border=\"1\" class=\"dataframe\">\n",
       "  <thead>\n",
       "    <tr style=\"text-align: right;\">\n",
       "      <th></th>\n",
       "      <th>Province/State</th>\n",
       "      <th>Country/Region</th>\n",
       "      <th>Lat</th>\n",
       "      <th>Long</th>\n",
       "      <th>1/22/20</th>\n",
       "      <th>1/23/20</th>\n",
       "      <th>1/24/20</th>\n",
       "      <th>1/25/20</th>\n",
       "      <th>1/26/20</th>\n",
       "      <th>1/27/20</th>\n",
       "      <th>...</th>\n",
       "      <th>3/7/20</th>\n",
       "      <th>3/8/20</th>\n",
       "      <th>3/9/20</th>\n",
       "      <th>3/10/20</th>\n",
       "      <th>3/11/20</th>\n",
       "      <th>3/12/20</th>\n",
       "      <th>3/13/20</th>\n",
       "      <th>3/14/20</th>\n",
       "      <th>3/15/20</th>\n",
       "      <th>3/16/20</th>\n",
       "    </tr>\n",
       "  </thead>\n",
       "  <tbody>\n",
       "    <tr>\n",
       "      <th>0</th>\n",
       "      <td>NaN</td>\n",
       "      <td>Thailand</td>\n",
       "      <td>15.0000</td>\n",
       "      <td>101.0000</td>\n",
       "      <td>2</td>\n",
       "      <td>3</td>\n",
       "      <td>5</td>\n",
       "      <td>7</td>\n",
       "      <td>8</td>\n",
       "      <td>8</td>\n",
       "      <td>...</td>\n",
       "      <td>50</td>\n",
       "      <td>50</td>\n",
       "      <td>50</td>\n",
       "      <td>53</td>\n",
       "      <td>59</td>\n",
       "      <td>70</td>\n",
       "      <td>75</td>\n",
       "      <td>82</td>\n",
       "      <td>114</td>\n",
       "      <td>147</td>\n",
       "    </tr>\n",
       "    <tr>\n",
       "      <th>1</th>\n",
       "      <td>NaN</td>\n",
       "      <td>Japan</td>\n",
       "      <td>36.0000</td>\n",
       "      <td>138.0000</td>\n",
       "      <td>2</td>\n",
       "      <td>1</td>\n",
       "      <td>2</td>\n",
       "      <td>2</td>\n",
       "      <td>4</td>\n",
       "      <td>4</td>\n",
       "      <td>...</td>\n",
       "      <td>461</td>\n",
       "      <td>502</td>\n",
       "      <td>511</td>\n",
       "      <td>581</td>\n",
       "      <td>639</td>\n",
       "      <td>639</td>\n",
       "      <td>701</td>\n",
       "      <td>773</td>\n",
       "      <td>839</td>\n",
       "      <td>825</td>\n",
       "    </tr>\n",
       "    <tr>\n",
       "      <th>2</th>\n",
       "      <td>NaN</td>\n",
       "      <td>Singapore</td>\n",
       "      <td>1.2833</td>\n",
       "      <td>103.8333</td>\n",
       "      <td>0</td>\n",
       "      <td>1</td>\n",
       "      <td>3</td>\n",
       "      <td>3</td>\n",
       "      <td>4</td>\n",
       "      <td>5</td>\n",
       "      <td>...</td>\n",
       "      <td>138</td>\n",
       "      <td>150</td>\n",
       "      <td>150</td>\n",
       "      <td>160</td>\n",
       "      <td>178</td>\n",
       "      <td>178</td>\n",
       "      <td>200</td>\n",
       "      <td>212</td>\n",
       "      <td>226</td>\n",
       "      <td>243</td>\n",
       "    </tr>\n",
       "    <tr>\n",
       "      <th>3</th>\n",
       "      <td>NaN</td>\n",
       "      <td>Nepal</td>\n",
       "      <td>28.1667</td>\n",
       "      <td>84.2500</td>\n",
       "      <td>0</td>\n",
       "      <td>0</td>\n",
       "      <td>0</td>\n",
       "      <td>1</td>\n",
       "      <td>1</td>\n",
       "      <td>1</td>\n",
       "      <td>...</td>\n",
       "      <td>1</td>\n",
       "      <td>1</td>\n",
       "      <td>1</td>\n",
       "      <td>1</td>\n",
       "      <td>1</td>\n",
       "      <td>1</td>\n",
       "      <td>1</td>\n",
       "      <td>1</td>\n",
       "      <td>1</td>\n",
       "      <td>1</td>\n",
       "    </tr>\n",
       "    <tr>\n",
       "      <th>4</th>\n",
       "      <td>NaN</td>\n",
       "      <td>Malaysia</td>\n",
       "      <td>2.5000</td>\n",
       "      <td>112.5000</td>\n",
       "      <td>0</td>\n",
       "      <td>0</td>\n",
       "      <td>0</td>\n",
       "      <td>3</td>\n",
       "      <td>4</td>\n",
       "      <td>4</td>\n",
       "      <td>...</td>\n",
       "      <td>93</td>\n",
       "      <td>99</td>\n",
       "      <td>117</td>\n",
       "      <td>129</td>\n",
       "      <td>149</td>\n",
       "      <td>149</td>\n",
       "      <td>197</td>\n",
       "      <td>238</td>\n",
       "      <td>428</td>\n",
       "      <td>566</td>\n",
       "    </tr>\n",
       "    <tr>\n",
       "      <th>...</th>\n",
       "      <td>...</td>\n",
       "      <td>...</td>\n",
       "      <td>...</td>\n",
       "      <td>...</td>\n",
       "      <td>...</td>\n",
       "      <td>...</td>\n",
       "      <td>...</td>\n",
       "      <td>...</td>\n",
       "      <td>...</td>\n",
       "      <td>...</td>\n",
       "      <td>...</td>\n",
       "      <td>...</td>\n",
       "      <td>...</td>\n",
       "      <td>...</td>\n",
       "      <td>...</td>\n",
       "      <td>...</td>\n",
       "      <td>...</td>\n",
       "      <td>...</td>\n",
       "      <td>...</td>\n",
       "      <td>...</td>\n",
       "      <td>...</td>\n",
       "    </tr>\n",
       "    <tr>\n",
       "      <th>458</th>\n",
       "      <td>NaN</td>\n",
       "      <td>Somalia</td>\n",
       "      <td>5.1521</td>\n",
       "      <td>46.1996</td>\n",
       "      <td>0</td>\n",
       "      <td>0</td>\n",
       "      <td>0</td>\n",
       "      <td>0</td>\n",
       "      <td>0</td>\n",
       "      <td>0</td>\n",
       "      <td>...</td>\n",
       "      <td>0</td>\n",
       "      <td>0</td>\n",
       "      <td>0</td>\n",
       "      <td>0</td>\n",
       "      <td>0</td>\n",
       "      <td>0</td>\n",
       "      <td>0</td>\n",
       "      <td>0</td>\n",
       "      <td>0</td>\n",
       "      <td>1</td>\n",
       "    </tr>\n",
       "    <tr>\n",
       "      <th>459</th>\n",
       "      <td>NaN</td>\n",
       "      <td>Tanzania</td>\n",
       "      <td>-6.3690</td>\n",
       "      <td>34.8888</td>\n",
       "      <td>0</td>\n",
       "      <td>0</td>\n",
       "      <td>0</td>\n",
       "      <td>0</td>\n",
       "      <td>0</td>\n",
       "      <td>0</td>\n",
       "      <td>...</td>\n",
       "      <td>0</td>\n",
       "      <td>0</td>\n",
       "      <td>0</td>\n",
       "      <td>0</td>\n",
       "      <td>0</td>\n",
       "      <td>0</td>\n",
       "      <td>0</td>\n",
       "      <td>0</td>\n",
       "      <td>0</td>\n",
       "      <td>1</td>\n",
       "    </tr>\n",
       "    <tr>\n",
       "      <th>460</th>\n",
       "      <td>NaN</td>\n",
       "      <td>The Bahamas</td>\n",
       "      <td>24.2500</td>\n",
       "      <td>-76.0000</td>\n",
       "      <td>0</td>\n",
       "      <td>0</td>\n",
       "      <td>0</td>\n",
       "      <td>0</td>\n",
       "      <td>0</td>\n",
       "      <td>0</td>\n",
       "      <td>...</td>\n",
       "      <td>0</td>\n",
       "      <td>0</td>\n",
       "      <td>0</td>\n",
       "      <td>0</td>\n",
       "      <td>0</td>\n",
       "      <td>0</td>\n",
       "      <td>0</td>\n",
       "      <td>0</td>\n",
       "      <td>0</td>\n",
       "      <td>1</td>\n",
       "    </tr>\n",
       "    <tr>\n",
       "      <th>461</th>\n",
       "      <td>Virgin Islands</td>\n",
       "      <td>US</td>\n",
       "      <td>18.3358</td>\n",
       "      <td>-64.8963</td>\n",
       "      <td>0</td>\n",
       "      <td>0</td>\n",
       "      <td>0</td>\n",
       "      <td>0</td>\n",
       "      <td>0</td>\n",
       "      <td>0</td>\n",
       "      <td>...</td>\n",
       "      <td>0</td>\n",
       "      <td>0</td>\n",
       "      <td>0</td>\n",
       "      <td>0</td>\n",
       "      <td>0</td>\n",
       "      <td>0</td>\n",
       "      <td>0</td>\n",
       "      <td>1</td>\n",
       "      <td>1</td>\n",
       "      <td>1</td>\n",
       "    </tr>\n",
       "    <tr>\n",
       "      <th>462</th>\n",
       "      <td>Cayman Islands</td>\n",
       "      <td>United Kingdom</td>\n",
       "      <td>19.3133</td>\n",
       "      <td>-81.2546</td>\n",
       "      <td>0</td>\n",
       "      <td>0</td>\n",
       "      <td>0</td>\n",
       "      <td>0</td>\n",
       "      <td>0</td>\n",
       "      <td>0</td>\n",
       "      <td>...</td>\n",
       "      <td>0</td>\n",
       "      <td>0</td>\n",
       "      <td>0</td>\n",
       "      <td>0</td>\n",
       "      <td>0</td>\n",
       "      <td>0</td>\n",
       "      <td>1</td>\n",
       "      <td>1</td>\n",
       "      <td>1</td>\n",
       "      <td>1</td>\n",
       "    </tr>\n",
       "  </tbody>\n",
       "</table>\n",
       "<p>463 rows × 59 columns</p>\n",
       "</div>"
      ],
      "text/plain": [
       "     Province/State  Country/Region      Lat      Long  1/22/20  1/23/20  \\\n",
       "0               NaN        Thailand  15.0000  101.0000        2        3   \n",
       "1               NaN           Japan  36.0000  138.0000        2        1   \n",
       "2               NaN       Singapore   1.2833  103.8333        0        1   \n",
       "3               NaN           Nepal  28.1667   84.2500        0        0   \n",
       "4               NaN        Malaysia   2.5000  112.5000        0        0   \n",
       "..              ...             ...      ...       ...      ...      ...   \n",
       "458             NaN         Somalia   5.1521   46.1996        0        0   \n",
       "459             NaN        Tanzania  -6.3690   34.8888        0        0   \n",
       "460             NaN     The Bahamas  24.2500  -76.0000        0        0   \n",
       "461  Virgin Islands              US  18.3358  -64.8963        0        0   \n",
       "462  Cayman Islands  United Kingdom  19.3133  -81.2546        0        0   \n",
       "\n",
       "     1/24/20  1/25/20  1/26/20  1/27/20  ...  3/7/20  3/8/20  3/9/20  3/10/20  \\\n",
       "0          5        7        8        8  ...      50      50      50       53   \n",
       "1          2        2        4        4  ...     461     502     511      581   \n",
       "2          3        3        4        5  ...     138     150     150      160   \n",
       "3          0        1        1        1  ...       1       1       1        1   \n",
       "4          0        3        4        4  ...      93      99     117      129   \n",
       "..       ...      ...      ...      ...  ...     ...     ...     ...      ...   \n",
       "458        0        0        0        0  ...       0       0       0        0   \n",
       "459        0        0        0        0  ...       0       0       0        0   \n",
       "460        0        0        0        0  ...       0       0       0        0   \n",
       "461        0        0        0        0  ...       0       0       0        0   \n",
       "462        0        0        0        0  ...       0       0       0        0   \n",
       "\n",
       "     3/11/20  3/12/20  3/13/20  3/14/20  3/15/20  3/16/20  \n",
       "0         59       70       75       82      114      147  \n",
       "1        639      639      701      773      839      825  \n",
       "2        178      178      200      212      226      243  \n",
       "3          1        1        1        1        1        1  \n",
       "4        149      149      197      238      428      566  \n",
       "..       ...      ...      ...      ...      ...      ...  \n",
       "458        0        0        0        0        0        1  \n",
       "459        0        0        0        0        0        1  \n",
       "460        0        0        0        0        0        1  \n",
       "461        0        0        0        1        1        1  \n",
       "462        0        0        1        1        1        1  \n",
       "\n",
       "[463 rows x 59 columns]"
      ]
     },
     "execution_count": 43,
     "metadata": {},
     "output_type": "execute_result"
    }
   ],
   "source": [
    "path=\"./csse_covid_19_data/csse_covid_19_time_series/time_series_19-covid-Confirmed.csv\"\n",
    "df=pd.read_csv(path)\n",
    "width=len(df.columns)-4 #Širina časovnega zaporedja\n",
    "height=len(df)\n",
    "df"
   ]
  },
  {
   "cell_type": "markdown",
   "metadata": {},
   "source": [
    "Iz teh podatkov naredimo seznam časovnih vrst. "
   ]
  },
  {
   "cell_type": "code",
   "execution_count": 45,
   "metadata": {},
   "outputs": [],
   "source": [
    "series=[]\n",
    "for row in range(height):\n",
    "    data=[]\n",
    "    for col in range(4,len(df.columns)):\n",
    "        data.append(df[df.columns[col]][row])\n",
    "    series.append(data)"
   ]
  },
  {
   "cell_type": "markdown",
   "metadata": {},
   "source": [
    "Vzamemo neko funkcijo za napako ki je odporna na b=0, ampak vseeno rajši aproksimira relativno napako, ker nas ta precej bolj zanima"
   ]
  },
  {
   "cell_type": "code",
   "execution_count": 226,
   "metadata": {},
   "outputs": [],
   "source": [
    "def err(x,a):\n",
    "    if abs(x-a)<=2:\n",
    "        return 0\n",
    "    else:\n",
    "        return abs(x/a-1)"
   ]
  },
  {
   "cell_type": "markdown",
   "metadata": {},
   "source": [
    "Napišemo si funkcijo ki oceni nek (model?) algoritem."
   ]
  },
  {
   "cell_type": "code",
   "execution_count": 191,
   "metadata": {},
   "outputs": [],
   "source": [
    "class Data_segment:\n",
    "    def __init__(self,input_list):\n",
    "        self.input=input_list[:-1]\n",
    "        self.ans=input_list[-1]"
   ]
  },
  {
   "cell_type": "code",
   "execution_count": 192,
   "metadata": {},
   "outputs": [],
   "source": [
    "def random_input_generator(length,previous_data_length):\n",
    "    inputs=[]\n",
    "    tries=1\n",
    "    done=0\n",
    "    while done<length:\n",
    "        randRow=random.randrange(height)\n",
    "        randIndexLeft=random.randrange(width-previous_data_length-1)\n",
    "        ls=[]\n",
    "        for i in range(previous_data_length+1):\n",
    "            ls.append(series[randRow][randIndexLeft+i])\n",
    "        if(ls[previous_data_length-1]==0):\n",
    "            continue\n",
    "        inputs.append(Data_segment(ls))\n",
    "        done+=1\n",
    "    return inputs"
   ]
  },
  {
   "cell_type": "code",
   "execution_count": 228,
   "metadata": {},
   "outputs": [],
   "source": [
    "def evaluate(prediction):\n",
    "    err_sum=0#vsota relativnih napak\n",
    "    tries=len(inputs)\n",
    "    previous_data_length=10#Koliko podatkov nazaj dobi prediction\n",
    "    for input in inputs:\n",
    "        response=prediction(input.input,previous_data_length)\n",
    "        correct=input.ans\n",
    "        error=err(response,correct)\n",
    "        print(str(input.input)+\" \"+str(response)+\" \"+str(input.ans)+\" \"+str(error))\n",
    "        err_sum+=error\n",
    "    return err_sum/tries"
   ]
  },
  {
   "cell_type": "code",
   "execution_count": 229,
   "metadata": {},
   "outputs": [],
   "source": [
    "inputs=random_input_generator(5,10)"
   ]
  },
  {
   "cell_type": "markdown",
   "metadata": {},
   "source": [
    "Prvi poskus: število okužb jutri bo 0. To bi moralo dati slab rezultat"
   ]
  },
  {
   "cell_type": "code",
   "execution_count": 230,
   "metadata": {},
   "outputs": [
    {
     "name": "stdout",
     "output_type": "stream",
     "text": [
      "[1, 1, 1, 2, 2, 2, 2, 2, 3, 3] 0 3 1.0\n",
      "[0, 0, 0, 0, 0, 0, 0, 0, 1, 1] 0 1 1.0\n",
      "[59989, 61682, 62031, 62442, 62662, 64084, 64084, 64287, 64786, 65187] 0 65596 1.0\n",
      "[509, 523, 532, 537, 541, 543, 544, 546, 749, 750] 0 754 1.0\n",
      "[0, 0, 0, 0, 0, 0, 0, 2, 2, 2] 0 2 1.0\n",
      "1.0\n"
     ]
    }
   ],
   "source": [
    "def return_healthy_for_sure(ls,length):\n",
    "    return 0\n",
    "print(evaluate(return_healthy_for_sure))"
   ]
  },
  {
   "cell_type": "markdown",
   "metadata": {},
   "source": [
    "Verjetno je precej boljša ideja da vrnemo število okuženih včeraj. Vsaj spodnja meja se ujema..."
   ]
  },
  {
   "cell_type": "code",
   "execution_count": 231,
   "metadata": {},
   "outputs": [
    {
     "name": "stdout",
     "output_type": "stream",
     "text": [
      "[1, 1, 1, 2, 2, 2, 2, 2, 3, 3] 3 3 0.0\n",
      "[0, 0, 0, 0, 0, 0, 0, 0, 1, 1] 1 1 0.0\n",
      "[59989, 61682, 62031, 62442, 62662, 64084, 64084, 64287, 64786, 65187] 65187 65596 0.0062351362887981265\n",
      "[509, 523, 532, 537, 541, 543, 544, 546, 749, 750] 750 754 0.0053050397877983935\n",
      "[0, 0, 0, 0, 0, 0, 0, 2, 2, 2] 2 2 0.0\n",
      "0.002308035215319304\n"
     ]
    }
   ],
   "source": [
    "def return_yesterday(ls,length):\n",
    "    return ls[-1]\n",
    "print(evaluate(return_yesterday))"
   ]
  },
  {
   "cell_type": "markdown",
   "metadata": {},
   "source": [
    "Kot kaže je uporaba malo logike precej boljša. Kdo bi si mislil. Sedaj naredimo interpolacijo iz enega dneva nazaj"
   ]
  },
  {
   "cell_type": "code",
   "execution_count": 232,
   "metadata": {},
   "outputs": [
    {
     "name": "stdout",
     "output_type": "stream",
     "text": [
      "[1, 1, 1, 2, 2, 2, 2, 2, 3, 3] 3 3 0.0\n",
      "[0, 0, 0, 0, 0, 0, 0, 0, 1, 1] 1 1 0.0\n",
      "[59989, 61682, 62031, 62442, 62662, 64084, 64084, 64287, 64786, 65187] 65588 65596 0.00012195865601560829\n",
      "[509, 523, 532, 537, 541, 543, 544, 546, 749, 750] 751 754 0.003978779840848823\n",
      "[0, 0, 0, 0, 0, 0, 0, 2, 2, 2] 2 2 0.0\n",
      "0.0008201476993728862\n"
     ]
    }
   ],
   "source": [
    "def small_interpolation(ls,length):\n",
    "    return ls[-1]+(ls[-1]-ls[-2])\n",
    "print(evaluate(small_interpolation))"
   ]
  },
  {
   "cell_type": "markdown",
   "metadata": {},
   "source": [
    "Hm to je morda malo boljše, ampak je izboljšava precej majhna. Ni mi še jasno zakaj..."
   ]
  },
  {
   "cell_type": "markdown",
   "metadata": {},
   "source": [
    "Ok poskusimo sedaj interpolirati tako da vzamemo rast zadnjih dveh dni"
   ]
  },
  {
   "cell_type": "code",
   "execution_count": 224,
   "metadata": {},
   "outputs": [
    {
     "name": "stdout",
     "output_type": "stream",
     "text": [
      "66690.1225942\n"
     ]
    }
   ],
   "source": [
    "def medium_interpolation(ls,length):\n",
    "    return ls[-1]+(ls[-1]-ls[-3])/2\n",
    "print(evaluate(medium_interpolation))"
   ]
  },
  {
   "cell_type": "markdown",
   "metadata": {},
   "source": [
    "Hm sedaj je rezultat še boljši. Vzemimo 3 dni"
   ]
  },
  {
   "cell_type": "code",
   "execution_count": 225,
   "metadata": {},
   "outputs": [
    {
     "name": "stdout",
     "output_type": "stream",
     "text": [
      "60504.92211614291\n"
     ]
    }
   ],
   "source": [
    "def longer_interpolation(ls,length):\n",
    "    return ls[-1]+(ls[-1]-ls[-4])/3\n",
    "print(evaluate(longer_interpolation))"
   ]
  },
  {
   "cell_type": "code",
   "execution_count": null,
   "metadata": {},
   "outputs": [],
   "source": []
  }
 ],
 "metadata": {
  "kernelspec": {
   "display_name": "Python 3",
   "language": "python",
   "name": "python3"
  },
  "language_info": {
   "codemirror_mode": {
    "name": "ipython",
    "version": 3
   },
   "file_extension": ".py",
   "mimetype": "text/x-python",
   "name": "python",
   "nbconvert_exporter": "python",
   "pygments_lexer": "ipython3",
   "version": "3.7.4"
  }
 },
 "nbformat": 4,
 "nbformat_minor": 4
}
