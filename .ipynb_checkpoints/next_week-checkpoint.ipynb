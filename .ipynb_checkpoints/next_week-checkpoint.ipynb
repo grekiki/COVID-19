{
 "cells": [
  {
   "cell_type": "code",
   "execution_count": 18,
   "metadata": {},
   "outputs": [],
   "source": [
    "import pandas as pd\n",
    "import os\n",
    "import random\n",
    "import numpy as np\n",
    "import matplotlib.pyplot as plt\n",
    "import math\n",
    "%matplotlib inline\n",
    "plt.rcParams[\"figure.figsize\"] = [20, 15]\n",
    "input_length=20#koliko dni do danes dobimo podatke?\n",
    "output_distance=14#za koliko dni vnaprej moramo napovedati stanje?\n",
    "sample_length=input_length+output_distance"
   ]
  },
  {
   "cell_type": "markdown",
   "metadata": {},
   "source": [
    "Poberemo podatke o številu okužb po dnevih"
   ]
  },
  {
   "cell_type": "code",
   "execution_count": 3,
   "metadata": {},
   "outputs": [
    {
     "data": {
      "text/html": [
       "<div>\n",
       "<style scoped>\n",
       "    .dataframe tbody tr th:only-of-type {\n",
       "        vertical-align: middle;\n",
       "    }\n",
       "\n",
       "    .dataframe tbody tr th {\n",
       "        vertical-align: top;\n",
       "    }\n",
       "\n",
       "    .dataframe thead th {\n",
       "        text-align: right;\n",
       "    }\n",
       "</style>\n",
       "<table border=\"1\" class=\"dataframe\">\n",
       "  <thead>\n",
       "    <tr style=\"text-align: right;\">\n",
       "      <th></th>\n",
       "      <th>Province/State</th>\n",
       "      <th>Country/Region</th>\n",
       "      <th>Lat</th>\n",
       "      <th>Long</th>\n",
       "      <th>1/22/20</th>\n",
       "      <th>1/23/20</th>\n",
       "      <th>1/24/20</th>\n",
       "      <th>1/25/20</th>\n",
       "      <th>1/26/20</th>\n",
       "      <th>1/27/20</th>\n",
       "      <th>...</th>\n",
       "      <th>3/21/20</th>\n",
       "      <th>3/22/20</th>\n",
       "      <th>3/23/20</th>\n",
       "      <th>3/24/20</th>\n",
       "      <th>3/25/20</th>\n",
       "      <th>3/26/20</th>\n",
       "      <th>3/27/20</th>\n",
       "      <th>3/28/20</th>\n",
       "      <th>3/29/20</th>\n",
       "      <th>3/30/20</th>\n",
       "    </tr>\n",
       "  </thead>\n",
       "  <tbody>\n",
       "    <tr>\n",
       "      <th>0</th>\n",
       "      <td>NaN</td>\n",
       "      <td>Afghanistan</td>\n",
       "      <td>33.0000</td>\n",
       "      <td>65.0000</td>\n",
       "      <td>0</td>\n",
       "      <td>0</td>\n",
       "      <td>0</td>\n",
       "      <td>0</td>\n",
       "      <td>0</td>\n",
       "      <td>0</td>\n",
       "      <td>...</td>\n",
       "      <td>24</td>\n",
       "      <td>40</td>\n",
       "      <td>40</td>\n",
       "      <td>74</td>\n",
       "      <td>84</td>\n",
       "      <td>94</td>\n",
       "      <td>110</td>\n",
       "      <td>110</td>\n",
       "      <td>120</td>\n",
       "      <td>170</td>\n",
       "    </tr>\n",
       "    <tr>\n",
       "      <th>1</th>\n",
       "      <td>NaN</td>\n",
       "      <td>Albania</td>\n",
       "      <td>41.1533</td>\n",
       "      <td>20.1683</td>\n",
       "      <td>0</td>\n",
       "      <td>0</td>\n",
       "      <td>0</td>\n",
       "      <td>0</td>\n",
       "      <td>0</td>\n",
       "      <td>0</td>\n",
       "      <td>...</td>\n",
       "      <td>76</td>\n",
       "      <td>89</td>\n",
       "      <td>104</td>\n",
       "      <td>123</td>\n",
       "      <td>146</td>\n",
       "      <td>174</td>\n",
       "      <td>186</td>\n",
       "      <td>197</td>\n",
       "      <td>212</td>\n",
       "      <td>223</td>\n",
       "    </tr>\n",
       "    <tr>\n",
       "      <th>2</th>\n",
       "      <td>NaN</td>\n",
       "      <td>Algeria</td>\n",
       "      <td>28.0339</td>\n",
       "      <td>1.6596</td>\n",
       "      <td>0</td>\n",
       "      <td>0</td>\n",
       "      <td>0</td>\n",
       "      <td>0</td>\n",
       "      <td>0</td>\n",
       "      <td>0</td>\n",
       "      <td>...</td>\n",
       "      <td>139</td>\n",
       "      <td>201</td>\n",
       "      <td>230</td>\n",
       "      <td>264</td>\n",
       "      <td>302</td>\n",
       "      <td>367</td>\n",
       "      <td>409</td>\n",
       "      <td>454</td>\n",
       "      <td>511</td>\n",
       "      <td>584</td>\n",
       "    </tr>\n",
       "    <tr>\n",
       "      <th>3</th>\n",
       "      <td>NaN</td>\n",
       "      <td>Andorra</td>\n",
       "      <td>42.5063</td>\n",
       "      <td>1.5218</td>\n",
       "      <td>0</td>\n",
       "      <td>0</td>\n",
       "      <td>0</td>\n",
       "      <td>0</td>\n",
       "      <td>0</td>\n",
       "      <td>0</td>\n",
       "      <td>...</td>\n",
       "      <td>88</td>\n",
       "      <td>113</td>\n",
       "      <td>133</td>\n",
       "      <td>164</td>\n",
       "      <td>188</td>\n",
       "      <td>224</td>\n",
       "      <td>267</td>\n",
       "      <td>308</td>\n",
       "      <td>334</td>\n",
       "      <td>370</td>\n",
       "    </tr>\n",
       "    <tr>\n",
       "      <th>4</th>\n",
       "      <td>NaN</td>\n",
       "      <td>Angola</td>\n",
       "      <td>-11.2027</td>\n",
       "      <td>17.8739</td>\n",
       "      <td>0</td>\n",
       "      <td>0</td>\n",
       "      <td>0</td>\n",
       "      <td>0</td>\n",
       "      <td>0</td>\n",
       "      <td>0</td>\n",
       "      <td>...</td>\n",
       "      <td>2</td>\n",
       "      <td>2</td>\n",
       "      <td>3</td>\n",
       "      <td>3</td>\n",
       "      <td>3</td>\n",
       "      <td>4</td>\n",
       "      <td>4</td>\n",
       "      <td>5</td>\n",
       "      <td>7</td>\n",
       "      <td>7</td>\n",
       "    </tr>\n",
       "    <tr>\n",
       "      <th>...</th>\n",
       "      <td>...</td>\n",
       "      <td>...</td>\n",
       "      <td>...</td>\n",
       "      <td>...</td>\n",
       "      <td>...</td>\n",
       "      <td>...</td>\n",
       "      <td>...</td>\n",
       "      <td>...</td>\n",
       "      <td>...</td>\n",
       "      <td>...</td>\n",
       "      <td>...</td>\n",
       "      <td>...</td>\n",
       "      <td>...</td>\n",
       "      <td>...</td>\n",
       "      <td>...</td>\n",
       "      <td>...</td>\n",
       "      <td>...</td>\n",
       "      <td>...</td>\n",
       "      <td>...</td>\n",
       "      <td>...</td>\n",
       "      <td>...</td>\n",
       "    </tr>\n",
       "    <tr>\n",
       "      <th>249</th>\n",
       "      <td>Anguilla</td>\n",
       "      <td>United Kingdom</td>\n",
       "      <td>18.2206</td>\n",
       "      <td>-63.0686</td>\n",
       "      <td>0</td>\n",
       "      <td>0</td>\n",
       "      <td>0</td>\n",
       "      <td>0</td>\n",
       "      <td>0</td>\n",
       "      <td>0</td>\n",
       "      <td>...</td>\n",
       "      <td>0</td>\n",
       "      <td>0</td>\n",
       "      <td>0</td>\n",
       "      <td>0</td>\n",
       "      <td>0</td>\n",
       "      <td>0</td>\n",
       "      <td>0</td>\n",
       "      <td>2</td>\n",
       "      <td>2</td>\n",
       "      <td>2</td>\n",
       "    </tr>\n",
       "    <tr>\n",
       "      <th>250</th>\n",
       "      <td>British Virgin Islands</td>\n",
       "      <td>United Kingdom</td>\n",
       "      <td>18.4207</td>\n",
       "      <td>-64.6400</td>\n",
       "      <td>0</td>\n",
       "      <td>0</td>\n",
       "      <td>0</td>\n",
       "      <td>0</td>\n",
       "      <td>0</td>\n",
       "      <td>0</td>\n",
       "      <td>...</td>\n",
       "      <td>0</td>\n",
       "      <td>0</td>\n",
       "      <td>0</td>\n",
       "      <td>0</td>\n",
       "      <td>0</td>\n",
       "      <td>0</td>\n",
       "      <td>0</td>\n",
       "      <td>2</td>\n",
       "      <td>2</td>\n",
       "      <td>2</td>\n",
       "    </tr>\n",
       "    <tr>\n",
       "      <th>251</th>\n",
       "      <td>Turks and Caicos Islands</td>\n",
       "      <td>United Kingdom</td>\n",
       "      <td>21.6940</td>\n",
       "      <td>-71.7979</td>\n",
       "      <td>0</td>\n",
       "      <td>0</td>\n",
       "      <td>0</td>\n",
       "      <td>0</td>\n",
       "      <td>0</td>\n",
       "      <td>0</td>\n",
       "      <td>...</td>\n",
       "      <td>0</td>\n",
       "      <td>0</td>\n",
       "      <td>0</td>\n",
       "      <td>0</td>\n",
       "      <td>0</td>\n",
       "      <td>0</td>\n",
       "      <td>0</td>\n",
       "      <td>4</td>\n",
       "      <td>4</td>\n",
       "      <td>5</td>\n",
       "    </tr>\n",
       "    <tr>\n",
       "      <th>252</th>\n",
       "      <td>NaN</td>\n",
       "      <td>MS Zaandam</td>\n",
       "      <td>0.0000</td>\n",
       "      <td>0.0000</td>\n",
       "      <td>0</td>\n",
       "      <td>0</td>\n",
       "      <td>0</td>\n",
       "      <td>0</td>\n",
       "      <td>0</td>\n",
       "      <td>0</td>\n",
       "      <td>...</td>\n",
       "      <td>0</td>\n",
       "      <td>0</td>\n",
       "      <td>0</td>\n",
       "      <td>0</td>\n",
       "      <td>0</td>\n",
       "      <td>0</td>\n",
       "      <td>0</td>\n",
       "      <td>2</td>\n",
       "      <td>2</td>\n",
       "      <td>2</td>\n",
       "    </tr>\n",
       "    <tr>\n",
       "      <th>253</th>\n",
       "      <td>NaN</td>\n",
       "      <td>Botswana</td>\n",
       "      <td>-22.3285</td>\n",
       "      <td>24.6849</td>\n",
       "      <td>0</td>\n",
       "      <td>0</td>\n",
       "      <td>0</td>\n",
       "      <td>0</td>\n",
       "      <td>0</td>\n",
       "      <td>0</td>\n",
       "      <td>...</td>\n",
       "      <td>0</td>\n",
       "      <td>0</td>\n",
       "      <td>0</td>\n",
       "      <td>0</td>\n",
       "      <td>0</td>\n",
       "      <td>0</td>\n",
       "      <td>0</td>\n",
       "      <td>0</td>\n",
       "      <td>0</td>\n",
       "      <td>3</td>\n",
       "    </tr>\n",
       "  </tbody>\n",
       "</table>\n",
       "<p>254 rows × 73 columns</p>\n",
       "</div>"
      ],
      "text/plain": [
       "               Province/State  Country/Region      Lat     Long  1/22/20  \\\n",
       "0                         NaN     Afghanistan  33.0000  65.0000        0   \n",
       "1                         NaN         Albania  41.1533  20.1683        0   \n",
       "2                         NaN         Algeria  28.0339   1.6596        0   \n",
       "3                         NaN         Andorra  42.5063   1.5218        0   \n",
       "4                         NaN          Angola -11.2027  17.8739        0   \n",
       "..                        ...             ...      ...      ...      ...   \n",
       "249                  Anguilla  United Kingdom  18.2206 -63.0686        0   \n",
       "250    British Virgin Islands  United Kingdom  18.4207 -64.6400        0   \n",
       "251  Turks and Caicos Islands  United Kingdom  21.6940 -71.7979        0   \n",
       "252                       NaN      MS Zaandam   0.0000   0.0000        0   \n",
       "253                       NaN        Botswana -22.3285  24.6849        0   \n",
       "\n",
       "     1/23/20  1/24/20  1/25/20  1/26/20  1/27/20  ...  3/21/20  3/22/20  \\\n",
       "0          0        0        0        0        0  ...       24       40   \n",
       "1          0        0        0        0        0  ...       76       89   \n",
       "2          0        0        0        0        0  ...      139      201   \n",
       "3          0        0        0        0        0  ...       88      113   \n",
       "4          0        0        0        0        0  ...        2        2   \n",
       "..       ...      ...      ...      ...      ...  ...      ...      ...   \n",
       "249        0        0        0        0        0  ...        0        0   \n",
       "250        0        0        0        0        0  ...        0        0   \n",
       "251        0        0        0        0        0  ...        0        0   \n",
       "252        0        0        0        0        0  ...        0        0   \n",
       "253        0        0        0        0        0  ...        0        0   \n",
       "\n",
       "     3/23/20  3/24/20  3/25/20  3/26/20  3/27/20  3/28/20  3/29/20  3/30/20  \n",
       "0         40       74       84       94      110      110      120      170  \n",
       "1        104      123      146      174      186      197      212      223  \n",
       "2        230      264      302      367      409      454      511      584  \n",
       "3        133      164      188      224      267      308      334      370  \n",
       "4          3        3        3        4        4        5        7        7  \n",
       "..       ...      ...      ...      ...      ...      ...      ...      ...  \n",
       "249        0        0        0        0        0        2        2        2  \n",
       "250        0        0        0        0        0        2        2        2  \n",
       "251        0        0        0        0        0        4        4        5  \n",
       "252        0        0        0        0        0        2        2        2  \n",
       "253        0        0        0        0        0        0        0        3  \n",
       "\n",
       "[254 rows x 73 columns]"
      ]
     },
     "execution_count": 3,
     "metadata": {},
     "output_type": "execute_result"
    }
   ],
   "source": [
    "path=\"./csse_covid_19_data/csse_covid_19_time_series/time_series_covid19_confirmed_global.csv\"\n",
    "df=pd.read_csv(path)\n",
    "width=len(df.columns)-4 #Širina časovnega zaporedja\n",
    "height=len(df)\n",
    "df"
   ]
  },
  {
   "cell_type": "markdown",
   "metadata": {},
   "source": [
    "Iz teh podatkov naredimo seznam časovnih vrst. "
   ]
  },
  {
   "cell_type": "code",
   "execution_count": 4,
   "metadata": {},
   "outputs": [],
   "source": [
    "series=[]\n",
    "for row in range(height):\n",
    "    data=[]\n",
    "    for col in range(4,len(df.columns)):\n",
    "        data.append(df[df.columns[col]][row])\n",
    "    series.append(data)\n",
    "#print(str(series).replace(\"[\",\"{\").replace(\"]\",\"}\"))"
   ]
  },
  {
   "cell_type": "markdown",
   "metadata": {},
   "source": [
    "Vzamemo neko funkcijo za napako ki je odporna na b=0, ampak vseeno rajši aproksimira relativno napako, ker nas ta precej bolj zanima"
   ]
  },
  {
   "cell_type": "code",
   "execution_count": 5,
   "metadata": {},
   "outputs": [],
   "source": [
    "def err(x,a):\n",
    "    return (x-a)**2"
   ]
  },
  {
   "cell_type": "markdown",
   "metadata": {},
   "source": [
    "Napišemo si funkcijo ki oceni nek (model?) algoritem."
   ]
  },
  {
   "cell_type": "code",
   "execution_count": 6,
   "metadata": {},
   "outputs": [],
   "source": [
    "class Data_segment:\n",
    "    def __init__(self,input_list):\n",
    "        assert len(input_list)==sample_length\n",
    "        self.input=input_list[0:input_length]\n",
    "        self.output=input_list[-1]\n",
    "        self.raw=input_list[:]"
   ]
  },
  {
   "cell_type": "code",
   "execution_count": 7,
   "metadata": {},
   "outputs": [],
   "source": [
    "def input_generator():\n",
    "    inputs=[]\n",
    "    for row in range(len(series)):\n",
    "        for c in range(len(series[row])-sample_length):\n",
    "            if series[row][c]>5:\n",
    "                list=series[row][c:c+sample_length]\n",
    "                inputs.append(Data_segment(list))\n",
    "    return inputs"
   ]
  },
  {
   "cell_type": "code",
   "execution_count": 8,
   "metadata": {},
   "outputs": [],
   "source": [
    "def evaluate(prediction):\n",
    "    err_sum=0#vsota relativnih napak\n",
    "    tries=len(inputs)\n",
    "    for input in inputs:\n",
    "        response=prediction(input.input)\n",
    "        correct=input.output\n",
    "        error=err(response,correct)\n",
    "        #print(str(input.input)+\" \"+str(response)+\" \"+str(input.ans)+\" \"+str(error))\n",
    "        err_sum+=error\n",
    "    return (err_sum/tries)/1000000"
   ]
  },
  {
   "cell_type": "code",
   "execution_count": 9,
   "metadata": {},
   "outputs": [
    {
     "name": "stdout",
     "output_type": "stream",
     "text": [
      "1388\n",
      "[23, 33, 33, 36, 41, 47, 49, 49, 52, 55, 60, 85, 85, 95, 110, 195, 195, 195, 210, 214, 214, 228, 256, 278, 285, 305, 334, 377, 392, 419, 458, 466, 476, 499]\n",
      "[23, 33, 33, 36, 41, 47, 49, 49, 52, 55, 60, 85, 85, 95, 110, 195, 195, 195, 210, 214]\n",
      "499\n"
     ]
    }
   ],
   "source": [
    "inputs=input_generator()\n",
    "print(len(inputs))\n",
    "print(inputs[0].raw)\n",
    "print(inputs[0].input)\n",
    "print(inputs[0].output)"
   ]
  },
  {
   "cell_type": "markdown",
   "metadata": {},
   "source": [
    "Prvi poskus: število okužb jutri bo 0. To bi moralo dati slab rezultat"
   ]
  },
  {
   "cell_type": "code",
   "execution_count": 10,
   "metadata": {},
   "outputs": [
    {
     "name": "stdout",
     "output_type": "stream",
     "text": [
      "215.81929734870317\n"
     ]
    }
   ],
   "source": [
    "def return_healthy_for_sure(ls):\n",
    "    return 0\n",
    "print(evaluate(return_healthy_for_sure))"
   ]
  },
  {
   "cell_type": "markdown",
   "metadata": {},
   "source": [
    "Verjetno je precej boljša ideja da vrnemo število okuženih včeraj. Vsaj spodnja meja se ujema..."
   ]
  },
  {
   "cell_type": "code",
   "execution_count": 11,
   "metadata": {},
   "outputs": [
    {
     "name": "stdout",
     "output_type": "stream",
     "text": [
      "85.4909355482709\n"
     ]
    }
   ],
   "source": [
    "def return_yesterday(ls):\n",
    "    return ls[-1]\n",
    "print(evaluate(return_yesterday))"
   ]
  },
  {
   "cell_type": "markdown",
   "metadata": {},
   "source": [
    "Kot kaže je uporaba malo logike precej boljša. Kdo bi si mislil. Sedaj naredimo interpolacijo iz enega dneva nazaj v \"output_distance\" dni naprej"
   ]
  },
  {
   "cell_type": "code",
   "execution_count": 12,
   "metadata": {},
   "outputs": [
    {
     "name": "stdout",
     "output_type": "stream",
     "text": [
      "73.46838338112391\n"
     ]
    }
   ],
   "source": [
    "def small_interpolation(ls):\n",
    "    return ls[-1]+output_distance*(ls[-1]-ls[-2])*0.5\n",
    "print(evaluate(small_interpolation))"
   ]
  },
  {
   "cell_type": "markdown",
   "metadata": {},
   "source": [
    "Poskusimo s pomočjo razmerij"
   ]
  },
  {
   "cell_type": "code",
   "execution_count": 13,
   "metadata": {},
   "outputs": [
    {
     "name": "stdout",
     "output_type": "stream",
     "text": [
      "76.13723813668055\n"
     ]
    }
   ],
   "source": [
    "def ratio_interpolation(ls):\n",
    "    return ls[-1]*(ls[-1]/ls[-2])**(output_distance*0.2)\n",
    "print(evaluate(ratio_interpolation))"
   ]
  },
  {
   "cell_type": "markdown",
   "metadata": {},
   "source": [
    "Glede na uteži ki smo jih morali dodati da je bil rezultat vsaj približno dober, smo verjetno bistveno divergirali od željenih vrednosti zaradi interpolacije v toliko dni naprej. Poskusimo uporabiti linearno interpolacijo z utežmi"
   ]
  },
  {
   "cell_type": "code",
   "execution_count": 14,
   "metadata": {},
   "outputs": [
    {
     "name": "stdout",
     "output_type": "stream",
     "text": [
      "68.13037819968498\n",
      "68.13037819968498\n"
     ]
    }
   ],
   "source": [
    "def generate_fit_from_weights_linear(w):\n",
    "    def linear_weight_interpolation(ls):\n",
    "        weightedTerms=[w[i]*ls[-1-i] for i in range(len(w))]\n",
    "        return sum(weightedTerms)\n",
    "    \n",
    "    return linear_weight_interpolation\n",
    "\n",
    "def generate_good_linear_interpolation():\n",
    "    weights=[0 for i in range(input_length)]#Recimo [0,0,0,0] da prvo funkcijo ki vedno vrne 0, [1,0,0,0] pa da funckijo ki gleda včeraj\n",
    "    #Iz Jave ?!\n",
    "    weights=[0.036352221539204546, 0.018249770545115396, 0.47028751427639576, -0.7045054934546577, 0.693455320661259, 0.15158809158411937, 0.16585301704907973, 0.5350970548742747, -1.1301572767617092, 0.6214886149019411, -0.9753954693811485, -0.2901006633541625, 0.28062697194207203, -0.36508154109605706, -0.3318423274094825, 0.24790415394548634, -2.457606529097592, 0.6247383467066236, -2.2728723982148304, 5.7272730939654215][::-1]\n",
    "    best=evaluate(generate_fit_from_weights_linear(weights))\n",
    "    print(best)\n",
    "    last=0\n",
    "    w=0.5#velikost \"povprečne\" spremembe\n",
    "    for i in range(0):\n",
    "        if(i%100==0):\n",
    "            print(i)\n",
    "        p=random.randrange(len(weights))\n",
    "        change=w*(random.random()-0.5)\n",
    "        weights[p]+=change\n",
    "        curr=evaluate(generate_fit_from_weights_linear(weights))\n",
    "        #print(str(weights)+\" \"+str(curr))\n",
    "        if(curr<best):\n",
    "            best=curr\n",
    "            if i-last>100:\n",
    "                last=i\n",
    "                print(curr)\n",
    "                print(weights)\n",
    "        else:\n",
    "            weights[p]-=change\n",
    "    print(best)\n",
    "    return generate_fit_from_weights_linear(weights)\n",
    "    \n",
    "good_linear_interpolation=generate_good_linear_interpolation()"
   ]
  },
  {
   "cell_type": "code",
   "execution_count": 41,
   "metadata": {},
   "outputs": [
    {
     "name": "stdout",
     "output_type": "stream",
     "text": [
      "124.0402719200734\n"
     ]
    }
   ],
   "source": [
    "w=[0.18028648693431407, -0.008862714613898221, 0.2462799808746143, -0.3624591373940107, -0.2179773166594492, 0.21212835842103114, 0.07060767273438316, -0.14468791339277434, 0.07006490668244514, 0.12963286511599362, -0.09505077538800331, -0.29720509491789154, -0.32575441390618537, -0.23206193348386095, -0.024203801353715186, -0.10121336215746463, -0.7954172840327228, -0.8192345099724636, -0.41803247795289555, 3.95225398846222][::-1]\n",
    "def log_weight_interpolation(ls):\n",
    "    if ls[0]<=0:\n",
    "        return 0\n",
    "    weightedTerms=[w[i]*math.log(ls[-1-i]) for i in range(len(w))]\n",
    "    return math.exp(sum(weightedTerms))\n",
    "\n",
    "print(evaluate(log_weight_interpolation))"
   ]
  },
  {
   "cell_type": "code",
   "execution_count": 45,
   "metadata": {},
   "outputs": [
    {
     "name": "stdout",
     "output_type": "stream",
     "text": [
      "[0, 0, 0, 0, 0, 0, 0, 0, 0, 0, 0, 0, 0, 0, 0, 0, 0, 0, 0, 0, 0, 0, 0, 0, 0, 0, 0, 0, 0, 0, 0, 0, 0, 0, 0, 0, 1, 1, 1, 1, 8, 10, 16, 21, 21, 23, 36, 36, 51, 62, 69, 80, 80, 101, 109, 109, 119, 119, 144, 144, 175, 187, 187, 208, 208, 223, 224, 224, 230]\n"
     ]
    },
    {
     "data": {
      "text/plain": [
       "<matplotlib.legend.Legend at 0x1e53f581c08>"
      ]
     },
     "execution_count": 45,
     "metadata": {},
     "output_type": "execute_result"
    },
    {
     "data": {
      "image/png": "[encoded data removed]",
      "text/plain": [
       "<Figure size 1440x1080 with 2 Axes>"
      ]
     },
     "metadata": {
      "needs_background": "light"
     },
     "output_type": "display_data"
    }
   ],
   "source": [
    "row=series[random.randrange(len(series))]\n",
    "print(row)\n",
    "x=np.arange(0, len(row), 1);\n",
    "y=[]\n",
    "lin_p=[]\n",
    "exp_p=[]\n",
    "for i in range(len(row)):\n",
    "    y.append(row[i])\n",
    "    \n",
    "for i in range(sample_length):\n",
    "    lin_p.append(row[i])\n",
    "for i in range(input_length,len(row)):\n",
    "    lin_p.append(good_linear_interpolation(y[i-input_length:i]))\n",
    "    \n",
    "for i in range(sample_length):\n",
    "    exp_p.append(row[i])\n",
    "for i in range(input_length,len(row)):\n",
    "    exp_p.append(log_weight_interpolation(y[i-input_length:i]))\n",
    "\n",
    "errors_lin=[err(lin_p[i],y[i]) for i in range(len(row))]\n",
    "errors_exp=[err(exp_p[i],y[i]) for i in range(len(row))]\n",
    "plt.subplot(2, 1, 1)\n",
    "plt.plot(x, y ,'go', label=\"Ground\")\n",
    "plt.plot(x, lin_p, label=\"Linear fit\")\n",
    "plt.plot(x, exp_p, label=\"Exponential fit\")\n",
    "plt.legend()\n",
    "\n",
    "plt.subplot(2, 1, 2)\n",
    "plt.plot(x, errors_lin, label=\"Linear error\")\n",
    "plt.plot(x, errors_exp, label=\"Exponential error\")\n",
    "plt.legend()"
   ]
  },
  {
   "cell_type": "code",
   "execution_count": null,
   "metadata": {},
   "outputs": [],
   "source": []
  },
  {
   "cell_type": "code",
   "execution_count": null,
   "metadata": {},
   "outputs": [],
   "source": []
  },
  {
   "cell_type": "code",
   "execution_count": null,
   "metadata": {},
   "outputs": [],
   "source": []
  }
 ],
 "metadata": {
  "kernelspec": {
   "display_name": "Python 3",
   "language": "python",
   "name": "python3"
  },
  "language_info": {
   "codemirror_mode": {
    "name": "ipython",
    "version": 3
   },
   "file_extension": ".py",
   "mimetype": "text/x-python",
   "name": "python",
   "nbconvert_exporter": "python",
   "pygments_lexer": "ipython3",
   "version": "3.7.4"
  }
 },
 "nbformat": 4,
 "nbformat_minor": 4
}
